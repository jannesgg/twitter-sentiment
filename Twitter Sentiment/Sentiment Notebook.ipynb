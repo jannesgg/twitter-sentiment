{
 "cells": [
  {
   "cell_type": "code",
   "execution_count": 1,
   "metadata": {
    "collapsed": true
   },
   "outputs": [],
   "source": [
    "import numpy as np\n",
    "import pandas as pd\n",
    "pd.options.display.max_rows\n",
    "pd.set_option('display.max_colwidth', -1)\n",
    "import matplotlib.pyplot as plt\n",
    "%matplotlib inline\n",
    "from collections import Counter, OrderedDict\n",
    "import re\n",
    "\n",
    "#NLTK RELATED\n",
    "import nltk\n",
    "from nltk.stem import WordNetLemmatizer\n",
    "from nltk.stem.porter import *\n",
    "from nltk.corpus import stopwords\n",
    "\n",
    "#MODELS\n",
    "from sklearn.feature_extraction.text import *\n",
    "from sklearn.naive_bayes import *\n",
    "from sklearn.dummy import DummyClassifier\n",
    "from sklearn.linear_model import *\n",
    "from sklearn.svm import *\n",
    "from sklearn.neural_network import *\n",
    "from sklearn.ensemble import * \n",
    "from sklearn.model_selection import *"
   ]
  },
  {
   "cell_type": "markdown",
   "metadata": {},
   "source": [
    "#### Data Import"
   ]
  },
  {
   "cell_type": "code",
   "execution_count": 2,
   "metadata": {
    "collapsed": true
   },
   "outputs": [],
   "source": [
    "SENT_DATA = pd.read_csv('sent.txt', sep='\\t', header=None, names=['sent_value','word'])"
   ]
  },
  {
   "cell_type": "code",
   "execution_count": 3,
   "metadata": {
    "collapsed": true
   },
   "outputs": [],
   "source": [
    "SENT_DICT = SENT_DATA.set_index('word').to_dict()['sent_value']"
   ]
  },
  {
   "cell_type": "code",
   "execution_count": 4,
   "metadata": {
    "collapsed": true
   },
   "outputs": [],
   "source": [
    "SENT_DF = pd.DataFrame(columns=['label','tweet'])"
   ]
  },
  {
   "cell_type": "code",
   "execution_count": 5,
   "metadata": {
    "collapsed": true
   },
   "outputs": [],
   "source": [
    "for w, s in SENT_DICT.items():\n",
    "    if s > 0.5:\n",
    "        SENT_DF = SENT_DF.append(pd.Series(['positive',\" \".join(w for i in range(100))], index=['label','tweet']), \n",
    "                                 ignore_index=True)\n",
    "    elif s <= 0.5:\n",
    "        SENT_DF = SENT_DF.append(pd.Series(['negative',\" \".join(w for i in range(100))], index=['label','tweet'])\n",
    "                                           , ignore_index=True)"
   ]
  },
  {
   "cell_type": "code",
   "execution_count": 6,
   "metadata": {
    "collapsed": true
   },
   "outputs": [],
   "source": [
    "TRAIN_DATA = pd.read_csv('./Data/train.tsv', sep='\\t', header=None, names=['label','tweet'])\n",
    "DEV_DATA = pd.read_csv('./Data/dev.tsv', sep='\\t', header=None, names=['label','tweet'])"
   ]
  },
  {
   "cell_type": "markdown",
   "metadata": {},
   "source": [
    "#### Feature Pre-processing "
   ]
  },
  {
   "cell_type": "code",
   "execution_count": 7,
   "metadata": {
    "collapsed": true
   },
   "outputs": [],
   "source": [
    "group_re = re.compile(r'''\n",
    "                         \\d+[:\\.]\\d+\n",
    "                         |(https?://)?(\\w+\\.)(\\w{2,})+([\\w/]+)\n",
    "                         |[@\\#]?\\w+(?:[-']\\w+)*\n",
    "                         |[^a-zA-Z0-9 ]+''',\n",
    "                         re.VERBOSE)"
   ]
  },
  {
   "cell_type": "code",
   "execution_count": 8,
   "metadata": {
    "collapsed": true
   },
   "outputs": [],
   "source": [
    "def decontracted(phrase):\n",
    "    # specific\n",
    "    phrase = re.sub(r\"won't\", \"will not\", phrase)\n",
    "    phrase = re.sub(r\"can\\'t\", \"can not\", phrase)\n",
    "\n",
    "    # general\n",
    "    phrase = re.sub(r\"n\\'t\", \" not\", phrase)\n",
    "    phrase = re.sub(r\"\\'re\", \" are\", phrase)\n",
    "    phrase = re.sub(r\"\\'s\", \" is\", phrase)\n",
    "    phrase = re.sub(r\"\\'d\", \" would\", phrase)\n",
    "    phrase = re.sub(r\"\\'ll\", \" will\", phrase)\n",
    "    phrase = re.sub(r\"\\'t\", \" not\", phrase)\n",
    "    phrase = re.sub(r\"\\'ve\", \" have\", phrase)\n",
    "    phrase = re.sub(r\"\\'m\", \" am\", phrase)\n",
    "    return phrase"
   ]
  },
  {
   "cell_type": "code",
   "execution_count": 9,
   "metadata": {
    "collapsed": true
   },
   "outputs": [],
   "source": [
    "def remove_digits(input_text):\n",
    "    return re.sub('\\d+', '', input_text)"
   ]
  },
  {
   "cell_type": "code",
   "execution_count": 10,
   "metadata": {
    "collapsed": true
   },
   "outputs": [],
   "source": [
    "def remove_stopwords(lst):\n",
    "    stopwords_list = stopwords.words('english')\n",
    "    # Some words which might indicate a certain sentiment are kept via a whitelist\n",
    "    whitelist = [\"not\", \"no\"] \n",
    "    clean_words = [word for word in lst if (word not in stopwords_list or word in whitelist)]\n",
    "    return clean_words"
   ]
  },
  {
   "cell_type": "markdown",
   "metadata": {},
   "source": [
    "#### Tokenization"
   ]
  },
  {
   "cell_type": "code",
   "execution_count": 11,
   "metadata": {
    "collapsed": true
   },
   "outputs": [],
   "source": [
    "def grouping(text):\n",
    "    return [ m.group() for m in group_re.finditer(text) ]"
   ]
  },
  {
   "cell_type": "markdown",
   "metadata": {},
   "source": [
    "#### Lemmatization and Stemming"
   ]
  },
  {
   "cell_type": "code",
   "execution_count": 12,
   "metadata": {
    "collapsed": true
   },
   "outputs": [],
   "source": [
    "lemmatizer = WordNetLemmatizer()\n",
    "stemmer = PorterStemmer()"
   ]
  },
  {
   "cell_type": "markdown",
   "metadata": {},
   "source": [
    "#### POS Tagged stopword removal"
   ]
  },
  {
   "cell_type": "code",
   "execution_count": 13,
   "metadata": {
    "collapsed": true
   },
   "outputs": [],
   "source": [
    "STOP_TYPES = ['ADP','PRT','PRON','VERB','.', 'CONJ', 'X', 'NUM']"
   ]
  },
  {
   "cell_type": "markdown",
   "metadata": {},
   "source": [
    "#### Regex for Emoticons, Punctuation and Hashtags"
   ]
  },
  {
   "cell_type": "code",
   "execution_count": 14,
   "metadata": {
    "collapsed": true
   },
   "outputs": [],
   "source": [
    "# Hashtags\n",
    "hash_regex = re.compile(r\"#(\\w+)\")\n",
    "def hash_repl(match):\n",
    "    return '__HASH_'+match.group(1).upper()\n",
    "\n",
    "# Handles\n",
    "hndl_regex = re.compile(r\"@(\\w+)\")\n",
    "def hndl_repl(match):\n",
    "    return '__HNDL_'+match.group(1).upper()\n",
    "\n",
    "# URLs\n",
    "url_regex = re.compile(r\"(http|https|ftp)://[a-zA-Z0-9\\./]+\")\n",
    "\n",
    "# Spliting by word boundaries\n",
    "word_bound_regex = re.compile(r\"\\W+\")\n",
    "\n",
    "# Repeating words like hurrrryyyyyy\n",
    "rpt_regex = re.compile(r\"(.)\\1{1,}\", re.IGNORECASE);\n",
    "def rpt_repl(match):\n",
    "    return match.group(1)+match.group(1)\n",
    "\n",
    "# Emoticons\n",
    "emoticons = \\\n",
    "    [   ('__EMOT_SMILEY', [':-)', ':)', '(:', '(-:', ] ) ,\\\n",
    "        ('__EMOT_LAUGH', [':-D', ':D', 'X-D', 'XD', 'xD', ] ),\\\n",
    "        ('__EMOT_LOVE', ['<3', ':\\*', ] ),\\\n",
    "        ('__EMOT_WINK', [';-)', ';)', ';-D', ';D', '(;', '(-;', ] ),\\\n",
    "        ('__EMOT_FROWN', [':-(', ':(', '(:', '(-:', ] ),\\\n",
    "        ('__EMOT_CRY', [':,(', ':\\'(', ':\"(', ':(('] ) ,\\\n",
    "    ]\n",
    "\n",
    "    \n",
    "#For emoticon regexes\n",
    "def escape_paren(arr):\n",
    "    return [text.replace(')', '[)}\\]]').replace('(', '[({\\[]') for text in arr]\n",
    "\n",
    "def regex_union(arr):\n",
    "    return '(' + '|'.join( arr ) + ')'\n",
    "\n",
    "emoticons_regex = [ (repl, re.compile(regex_union(escape_paren(regx))) ) \\\n",
    "                    for (repl, regx) in emoticons ]\n",
    "    \n",
    "# Punctuations\n",
    "punctuations = \\\n",
    "    [   #('', ['.', ] ),\\\n",
    "        #('', [',', ] ),\\\n",
    "        #('', ['\\'', '\\\"', ] ),\\\n",
    "        ('__PUNC_EXCL', ['!', '¡', ] ) ,\\\n",
    "        ('__PUNC_QUES', ['?', '¿', ] ) ,\\\n",
    "        ('__PUNC_ELLP', ['...', '…', ] ) ,\\\n",
    "    ]\n",
    "\n",
    "    \n",
    "    #For punctuation replacement\n",
    "def punctuations_repl(match):\n",
    "    text = match.group(0)\n",
    "    repl = []\n",
    "    for (key, parr) in punctuations :\n",
    "        for punc in parr :\n",
    "            if punc in text:\n",
    "                repl.append(key)\n",
    "    if( len(repl)>0 ) :\n",
    "        return ' '+' '.join(repl)+' '\n",
    "    else :\n",
    "        return ' '\n"
   ]
  },
  {
   "cell_type": "code",
   "execution_count": 15,
   "metadata": {
    "collapsed": true
   },
   "outputs": [],
   "source": [
    "def processHashtags( text, subject='', query=[]):\n",
    "    return re.sub( hash_regex, hash_repl, text)\n",
    "\n",
    "def processHandles( text, subject='', query=[]):\n",
    "    return re.sub( hndl_regex, hndl_repl, text)\n",
    "\n",
    "def processUrls( text, subject='', query=[]):\n",
    "    return re.sub( url_regex, ' __URL ', text)\n",
    "\n",
    "def processEmoticons( text, subject='', query=[]):\n",
    "    for (repl, regx) in emoticons_regex :\n",
    "        text = re.sub(regx, ' '+repl+' ', text)\n",
    "    return text\n",
    "\n",
    "def processPunctuations( text, subject='', query=[]):\n",
    "    return re.sub( word_bound_regex , punctuations_repl, text)"
   ]
  },
  {
   "cell_type": "code",
   "execution_count": 16,
   "metadata": {
    "collapsed": true
   },
   "outputs": [],
   "source": [
    "def preprocess(pd_df):\n",
    "    '''Pre-process data according to steps above. Requires data to be stored in Pandas Dataframe'''\n",
    "    #Remove contractions\n",
    "    pd_df = pd_df.apply(decontracted)\n",
    "    #Remove digits\n",
    "    pd_df = pd_df.apply(remove_digits)\n",
    "    #Remove hashtags\n",
    "    pd_df = pd_df.apply(processHashtags)\n",
    "    #Convert Handles\n",
    "    pd_df = pd_df.apply(processHandles)\n",
    "    #Convert Emoticons\n",
    "    pd_df = pd_df.apply(processEmoticons)\n",
    "    #Convert URLs\n",
    "    pd_df = pd_df.apply(processUrls)\n",
    "    #Convert punctuation\n",
    "    pd_df = pd_df.apply(processPunctuations)\n",
    "    #Tokenize\n",
    "    pd_df = pd_df.apply(grouping)\n",
    "    #Remove stopwords\n",
    "    pd_df = pd_df.apply(remove_stopwords)\n",
    "    #Lemmatize\n",
    "    pd_df = pd_df.apply(lambda x: [lemmatizer.lemmatize(y.lower(), 'v') for y in x])\n",
    "    #Stopword removal\n",
    "    pd_df = pd_df.apply(lambda x: [w for w in x if nltk.pos_tag(w)[0][1] not in STOP_TYPES])\n",
    "    return [' '.join(x for x in pd_df.values[i]) for i in range(len(pd_df))]"
   ]
  },
  {
   "cell_type": "code",
   "execution_count": 17,
   "metadata": {
    "collapsed": true
   },
   "outputs": [],
   "source": [
    "COMBINED_DF = pd.concat([TRAIN_DATA, SENT_DF])"
   ]
  },
  {
   "cell_type": "code",
   "execution_count": 18,
   "metadata": {
    "collapsed": true
   },
   "outputs": [],
   "source": [
    "TRAIN_DF = preprocess(TRAIN_DATA['tweet'])"
   ]
  },
  {
   "cell_type": "markdown",
   "metadata": {},
   "source": [
    "#### Class Priors (for NB model)"
   ]
  },
  {
   "cell_type": "code",
   "execution_count": 19,
   "metadata": {
    "collapsed": true
   },
   "outputs": [],
   "source": [
    "pos_df = TRAIN_DATA[TRAIN_DATA['label']=='positive']\n",
    "neg_df = TRAIN_DATA[TRAIN_DATA['label']=='negative']\n",
    "neu_df = TRAIN_DATA[TRAIN_DATA['label']=='neutral']"
   ]
  },
  {
   "cell_type": "code",
   "execution_count": 20,
   "metadata": {},
   "outputs": [
    {
     "name": "stdout",
     "output_type": "stream",
     "text": [
      "Positive: 37.61737753139495%\n",
      "Negative: 14.854621563525287%\n",
      "Neutral: 47.52800090507976%\n"
     ]
    }
   ],
   "source": [
    "print(\"Positive: \" + str(len(pos_df)/(len(pos_df)+len(neg_df)+len(neu_df))*100) + \"%\")\n",
    "print(\"Negative: \" + str(len(neg_df)/(len(pos_df)+len(neg_df)+len(neu_df))*100) + \"%\")\n",
    "print(\"Neutral: \" + str(len(neu_df)/(len(pos_df)+len(neg_df)+len(neu_df))*100) + \"%\")"
   ]
  },
  {
   "cell_type": "code",
   "execution_count": 21,
   "metadata": {
    "collapsed": true
   },
   "outputs": [],
   "source": [
    "from sklearn.pipeline import make_pipeline\n",
    "from sklearn.feature_selection import *\n",
    "from sklearn.metrics import *"
   ]
  },
  {
   "cell_type": "code",
   "execution_count": 22,
   "metadata": {
    "collapsed": true
   },
   "outputs": [],
   "source": [
    "X_TRAIN = TRAIN_DF\n",
    "y_TRAIN = TRAIN_DATA['label'].values"
   ]
  },
  {
   "cell_type": "code",
   "execution_count": 23,
   "metadata": {
    "collapsed": true
   },
   "outputs": [],
   "source": [
    "models = [LogisticRegression(), LinearSVC(C=1.0, loss='hinge',\n",
    "                                         max_iter=10, penalty='l2'), \n",
    "          MultinomialNB(class_prior=(0.15, 0.47, 0.38)), Perceptron(max_iter=1000), \n",
    "          MLPClassifier(max_iter=1000),\n",
    "          RandomForestClassifier(), \n",
    "          GradientBoostingClassifier(), DummyClassifier(strategy='most_frequent')]"
   ]
  },
  {
   "cell_type": "code",
   "execution_count": 24,
   "metadata": {
    "collapsed": true
   },
   "outputs": [],
   "source": [
    "def pipeline_run(model, train_df, train_y, dev_df, dev_labels, k):\n",
    "    p = make_pipeline(\n",
    "           TfidfVectorizer(strip_accents='unicode',tokenizer=grouping, \n",
    "                           ngram_range=(1,2), min_df=20, norm='l2'),\n",
    "            SelectKBest(k=k),\n",
    "            model)\n",
    "    p.fit(train_df, train_y)\n",
    "    pred = p.predict(dev_df)\n",
    "    return accuracy_score(dev_labels, pred)"
   ]
  },
  {
   "cell_type": "code",
   "execution_count": 26,
   "metadata": {
    "collapsed": true
   },
   "outputs": [],
   "source": [
    "DEV_DF = preprocess(DEV_DATA['tweet']) "
   ]
  },
  {
   "cell_type": "code",
   "execution_count": 28,
   "metadata": {
    "collapsed": true
   },
   "outputs": [],
   "source": [
    "def k_grid(n, train_df, train_y):\n",
    "    params = {'min_df': range(n), 'norm':['l1','l2']}\n",
    "    tfidf_vec = TfidfVectorizer()\n",
    "    tfidf_matrix = tfidf.fit_transform(train_df)\n",
    "    clf = GridSearchCV(tfidf_vec, params)\n",
    "    clf.fit(tfidf_matrix, train_y)\n",
    "    return clf.best_estimator_\n",
    "    "
   ]
  },
  {
   "cell_type": "code",
   "execution_count": 29,
   "metadata": {
    "collapsed": true
   },
   "outputs": [],
   "source": [
    "pipelines = [make_pipeline(\n",
    "           TfidfVectorizer(strip_accents='unicode',tokenizer=grouping, \n",
    "                           ngram_range=(1,2), min_df=20, max_df=0.5, norm='l2'),\n",
    "            SelectKBest(k=500),\n",
    "            model) for model in models]"
   ]
  },
  {
   "cell_type": "code",
   "execution_count": 30,
   "metadata": {
    "collapsed": true
   },
   "outputs": [],
   "source": [
    "model_names = [list(i.named_steps.keys())[2] for i in pipelines]"
   ]
  },
  {
   "cell_type": "code",
   "execution_count": 31,
   "metadata": {
    "collapsed": true
   },
   "outputs": [],
   "source": [
    "fitted = [i.fit(X_TRAIN, y_TRAIN) for i in pipelines]"
   ]
  },
  {
   "cell_type": "code",
   "execution_count": 32,
   "metadata": {
    "collapsed": true
   },
   "outputs": [],
   "source": [
    "params = {'C': [0.0001, 0.001, 0.01, 0.1, 1.0],\n",
    " 'loss': ['hinge', 'squared_hinge'],\n",
    " 'max_iter': [10, 100, 1000, 2000],\n",
    " 'multi_class': ['ovr', 'crammer_singer']}"
   ]
  },
  {
   "cell_type": "markdown",
   "metadata": {},
   "source": [
    "#### Gridsearch"
   ]
  },
  {
   "cell_type": "code",
   "execution_count": 34,
   "metadata": {},
   "outputs": [
    {
     "data": {
      "text/plain": [
       "GridSearchCV(cv=None, error_score='raise',\n",
       "       estimator=LinearSVC(C=1.0, class_weight=None, dual=True, fit_intercept=True,\n",
       "     intercept_scaling=1, loss='squared_hinge', max_iter=1000,\n",
       "     multi_class='ovr', penalty='l2', random_state=None, tol=0.0001,\n",
       "     verbose=0),\n",
       "       fit_params=None, iid=True, n_jobs=1,\n",
       "       param_grid={'C': [0.0001, 0.001, 0.01, 0.1, 1.0], 'loss': ['hinge', 'squared_hinge'], 'max_iter': [10, 100, 1000, 2000], 'multi_class': ['ovr', 'crammer_singer']},\n",
       "       pre_dispatch='2*n_jobs', refit=True, return_train_score='warn',\n",
       "       scoring=None, verbose=0)"
      ]
     },
     "execution_count": 34,
     "metadata": {},
     "output_type": "execute_result"
    }
   ],
   "source": [
    "svc = LinearSVC()\n",
    "clf = GridSearchCV(svc, params)\n",
    "tfidf = TfidfVectorizer(strip_accents='unicode',tokenizer=grouping, \n",
    "                           ngram_range=(1,2), min_df=20, norm='l2')\n",
    "tfidf_matrix = tfidf.fit_transform(TRAIN_DF)\n",
    "clf.fit(tfidf_matrix, y_TRAIN)"
   ]
  },
  {
   "cell_type": "code",
   "execution_count": 35,
   "metadata": {},
   "outputs": [
    {
     "data": {
      "text/plain": [
       "LinearSVC(C=1.0, class_weight=None, dual=True, fit_intercept=True,\n",
       "     intercept_scaling=1, loss='hinge', max_iter=100, multi_class='ovr',\n",
       "     penalty='l2', random_state=None, tol=0.0001, verbose=0)"
      ]
     },
     "execution_count": 35,
     "metadata": {},
     "output_type": "execute_result"
    }
   ],
   "source": [
    "clf.best_estimator_"
   ]
  },
  {
   "cell_type": "markdown",
   "metadata": {},
   "source": [
    "#### Feature importance in models"
   ]
  },
  {
   "cell_type": "code",
   "execution_count": 36,
   "metadata": {},
   "outputs": [
    {
     "name": "stdout",
     "output_type": "stream",
     "text": [
      "-3.130834475372188 wait\n",
      "-3.4726737678906145 knicks vs\n",
      "-3.476757246936203 conference\n",
      "-3.5081453975381764 excite\n",
      "-3.716353798262878 joke\n",
      "-3.83666283242849 part\n",
      "-3.90833889575831 july\n",
      "-3.9420108152578566 knicks\n",
      "-4.0544149968010466 oct\n",
      "-4.061491889421642 joseph\n",
      "-4.1342063329904715 they\n",
      "-4.135485933119972 __emot_wink\n",
      "-4.144153553655327 __punc_excl the\n",
      "-4.211286866561512 central\n",
      "-4.25691510844084 __punc_ellp i\n",
      "-4.258841129961904 dude\n",
      "-4.314771976624252 vs\n",
      "-4.319024580655106 wednesday\n",
      "-4.389435246405659 vita\n",
      "-4.442904368807706 report\n"
     ]
    }
   ],
   "source": [
    "for fname, weight in sorted( zip(fitted[2].named_steps['multinomialnb'].coef_.ravel(), \n",
    "                                 fitted[2].named_steps['tfidfvectorizer'].get_feature_names()) ,reverse=True)[:20]:\n",
    "    print(fname, weight)"
   ]
  },
  {
   "cell_type": "code",
   "execution_count": 37,
   "metadata": {},
   "outputs": [
    {
     "name": "stdout",
     "output_type": "stream",
     "text": [
      "5.798950769438543 vita\n",
      "5.074114883024295 years\n",
      "4.875811163809757 _\n",
      "4.314720486531113 white\n",
      "4.267395828381918 care\n",
      "4.200946076001744 wow\n",
      "4.063057728163819 vote\n",
      "3.7492347977789175 gonna\n",
      "3.408108246273362 hate\n",
      "3.3920875436678677 yes\n",
      "3.296516212333016 yay\n",
      "2.9533366708156996 here\n",
      "2.8743039058863973 fact\n",
      "2.8073974042818417 austin\n",
      "2.6712895821965335 anderson\n",
      "2.518929578493452 club\n",
      "2.4954160138917336 yet\n",
      "2.340882833090978 visit\n",
      "2.3351503357745536 halloween\n",
      "2.2893856340854417 face\n"
     ]
    }
   ],
   "source": [
    "for fname, weight in sorted( zip(fitted[1].named_steps['linearsvc'].coef_.ravel(), \n",
    "                                 fitted[1].named_steps['tfidfvectorizer'].get_feature_names()) ,reverse=True)[:20]:\n",
    "    print(fname, weight)"
   ]
  },
  {
   "cell_type": "code",
   "execution_count": 38,
   "metadata": {},
   "outputs": [
    {
     "name": "stdout",
     "output_type": "stream",
     "text": [
      "0.047144299190170394 __punc_ellp i\n",
      "0.02529942706733778 excite\n",
      "0.023636732497281186 __punc_excl we\n",
      "0.023089244335262996 ceo\n",
      "0.01916243538186348 conference\n",
      "0.016467582992154322 __emot_laugh\n",
      "0.014940754960445673 dont\n",
      "0.014289445567542686 __emot_wink\n",
      "0.013875503406133416 __punc_excl the\n",
      "0.013326085609557415 check\n"
     ]
    }
   ],
   "source": [
    "for fname, weight in sorted(zip(fitted[5].named_steps['randomforestclassifier'].feature_importances_, \n",
    "                                 fitted[5].named_steps['tfidfvectorizer'].get_feature_names()), reverse=True)[:10]:\n",
    "    print(fname, weight)"
   ]
  },
  {
   "cell_type": "code",
   "execution_count": 39,
   "metadata": {},
   "outputs": [
    {
     "name": "stdout",
     "output_type": "stream",
     "text": [
      "0.04975988411684112 excite\n",
      "0.042677703381100086 __punc_ellp i\n",
      "0.027402543580717423 ceo\n",
      "0.022161468390823526 dont\n",
      "0.02166386822629843 check\n",
      "0.02096656640138674 answer\n",
      "0.020779573720986853 __emot_laugh\n",
      "0.02036626989834181 class\n",
      "0.019442059412274608 brooklyn\n",
      "0.018595254963632825 __punc_excl we\n"
     ]
    }
   ],
   "source": [
    "for fname, weight in sorted(zip(fitted[6].named_steps['gradientboostingclassifier'].feature_importances_, \n",
    "                                 fitted[6].named_steps['tfidfvectorizer'].get_feature_names()), reverse=True)[:10]:\n",
    "    print(fname, weight)"
   ]
  },
  {
   "cell_type": "code",
   "execution_count": 40,
   "metadata": {
    "collapsed": true
   },
   "outputs": [],
   "source": [
    "importances = fitted[6].named_steps['gradientboostingclassifier'].feature_importances_\n",
    "indices = np.argsort(importances)[::-1]"
   ]
  },
  {
   "cell_type": "code",
   "execution_count": 41,
   "metadata": {},
   "outputs": [
    {
     "data": {
      "text/plain": [
       "Text(0.5,0,'Relative Importance')"
      ]
     },
     "execution_count": 41,
     "metadata": {},
     "output_type": "execute_result"
    },
    {
     "data": {
      "image/png": "[encoded data removed]",
      "text/plain": [
       "<matplotlib.figure.Figure at 0x1a1bde0e10>"
      ]
     },
     "metadata": {},
     "output_type": "display_data"
    }
   ],
   "source": [
    "plt.figure(1)\n",
    "plt.title('Feature Importances')\n",
    "plt.bar(range(len(indices)), importances[indices], color='b', align='center')\n",
    "plt.xticks(range(len(indices)), np.array(fitted[6].named_steps['tfidfvectorizer'].get_feature_names())[indices])\n",
    "plt.xlabel('Relative Importance')"
   ]
  },
  {
   "cell_type": "markdown",
   "metadata": {},
   "source": [
    "#### Evaluate Validation Set"
   ]
  },
  {
   "cell_type": "code",
   "execution_count": 42,
   "metadata": {
    "collapsed": true
   },
   "outputs": [],
   "source": [
    "import operator"
   ]
  },
  {
   "cell_type": "code",
   "execution_count": 43,
   "metadata": {
    "collapsed": true
   },
   "outputs": [],
   "source": [
    "PRED = [i.predict(DEV_DF) for i in pipelines]"
   ]
  },
  {
   "cell_type": "code",
   "execution_count": 44,
   "metadata": {
    "collapsed": true
   },
   "outputs": [],
   "source": [
    "ACC = [np.sum(DEV_DATA['label']==PRED[i])/len(PRED[i])*100 for i in range(len(PRED))]"
   ]
  },
  {
   "cell_type": "code",
   "execution_count": 46,
   "metadata": {
    "collapsed": true
   },
   "outputs": [],
   "source": [
    "RESULTS_DICT = pd.DataFrame([(m, a) for (m, a) in zip(model_names, ACC)], \n",
    "                            columns=['model_name','acc']).sort_values(by='acc', ascending=False)"
   ]
  },
  {
   "cell_type": "code",
   "execution_count": 47,
   "metadata": {},
   "outputs": [
    {
     "data": {
      "text/html": [
       "<div>\n",
       "<style>\n",
       "    .dataframe thead tr:only-child th {\n",
       "        text-align: right;\n",
       "    }\n",
       "\n",
       "    .dataframe thead th {\n",
       "        text-align: left;\n",
       "    }\n",
       "\n",
       "    .dataframe tbody tr th {\n",
       "        vertical-align: top;\n",
       "    }\n",
       "</style>\n",
       "<table border=\"1\" class=\"dataframe\">\n",
       "  <thead>\n",
       "    <tr style=\"text-align: right;\">\n",
       "      <th></th>\n",
       "      <th>model_name</th>\n",
       "      <th>acc</th>\n",
       "    </tr>\n",
       "  </thead>\n",
       "  <tbody>\n",
       "    <tr>\n",
       "      <th>1</th>\n",
       "      <td>linearsvc</td>\n",
       "      <td>66.247518</td>\n",
       "    </tr>\n",
       "    <tr>\n",
       "      <th>0</th>\n",
       "      <td>logisticregression</td>\n",
       "      <td>65.320979</td>\n",
       "    </tr>\n",
       "    <tr>\n",
       "      <th>6</th>\n",
       "      <td>gradientboostingclassifier</td>\n",
       "      <td>63.864990</td>\n",
       "    </tr>\n",
       "    <tr>\n",
       "      <th>2</th>\n",
       "      <td>multinomialnb</td>\n",
       "      <td>61.813369</td>\n",
       "    </tr>\n",
       "    <tr>\n",
       "      <th>4</th>\n",
       "      <td>mlpclassifier</td>\n",
       "      <td>61.283918</td>\n",
       "    </tr>\n",
       "    <tr>\n",
       "      <th>5</th>\n",
       "      <td>randomforestclassifier</td>\n",
       "      <td>61.085374</td>\n",
       "    </tr>\n",
       "    <tr>\n",
       "      <th>3</th>\n",
       "      <td>perceptron</td>\n",
       "      <td>60.158835</td>\n",
       "    </tr>\n",
       "    <tr>\n",
       "      <th>7</th>\n",
       "      <td>dummyclassifier</td>\n",
       "      <td>44.804765</td>\n",
       "    </tr>\n",
       "  </tbody>\n",
       "</table>\n",
       "</div>"
      ],
      "text/plain": [
       "                   model_name        acc\n",
       "1  linearsvc                   66.247518\n",
       "0  logisticregression          65.320979\n",
       "6  gradientboostingclassifier  63.864990\n",
       "2  multinomialnb               61.813369\n",
       "4  mlpclassifier               61.283918\n",
       "5  randomforestclassifier      61.085374\n",
       "3  perceptron                  60.158835\n",
       "7  dummyclassifier             44.804765"
      ]
     },
     "execution_count": 47,
     "metadata": {},
     "output_type": "execute_result"
    }
   ],
   "source": [
    "RESULTS_DICT"
   ]
  },
  {
   "cell_type": "code",
   "execution_count": 48,
   "metadata": {
    "collapsed": true
   },
   "outputs": [],
   "source": [
    "from sklearn.metrics import confusion_matrix, f1_score"
   ]
  },
  {
   "cell_type": "code",
   "execution_count": 49,
   "metadata": {
    "collapsed": true
   },
   "outputs": [],
   "source": [
    "CONFUSION = [confusion_matrix(DEV_DATA['label'],PRED[i]) for i in range(len(PRED))]"
   ]
  },
  {
   "cell_type": "code",
   "execution_count": 50,
   "metadata": {},
   "outputs": [
    {
     "name": "stderr",
     "output_type": "stream",
     "text": [
      "/anaconda3/lib/python3.6/site-packages/sklearn/metrics/classification.py:1135: UndefinedMetricWarning: F-score is ill-defined and being set to 0.0 in labels with no predicted samples.\n",
      "  'precision', 'predicted', average, warn_for)\n"
     ]
    }
   ],
   "source": [
    "F_SCORE = [f1_score(DEV_DATA['label'],PRED[i],average='weighted') for i in range(len(PRED))]"
   ]
  },
  {
   "cell_type": "code",
   "execution_count": 51,
   "metadata": {
    "collapsed": true
   },
   "outputs": [],
   "source": [
    "import itertools"
   ]
  },
  {
   "cell_type": "code",
   "execution_count": 52,
   "metadata": {
    "collapsed": true
   },
   "outputs": [],
   "source": [
    "def plot_confusion_matrix(cm, classes,\n",
    "                          normalize=False,\n",
    "                          title='Confusion matrix',\n",
    "                          cmap=plt.cm.Blues):\n",
    "    \"\"\"\n",
    "    This function prints and plots the confusion matrix.\n",
    "    Normalization can be applied by setting `normalize=True`.\n",
    "    \"\"\"\n",
    "    if normalize:\n",
    "        cm = cm.astype('float') / cm.sum(axis=1)[:, np.newaxis]\n",
    "        print(\"Normalized confusion matrix\")\n",
    "    else:\n",
    "        print('Confusion matrix, without normalization')\n",
    "\n",
    "    print(cm)\n",
    "    \n",
    "    plt.imshow(cm, interpolation='nearest', cmap=cmap)\n",
    "    plt.title(title)\n",
    "    plt.colorbar()\n",
    "    tick_marks = np.arange(len(classes))\n",
    "    plt.xticks(tick_marks, classes, rotation=45)\n",
    "    plt.yticks(tick_marks, classes)\n",
    "\n",
    "    fmt = '.2f' if normalize else 'd'\n",
    "    thresh = cm.max() / 2.\n",
    "    for i, j in itertools.product(range(cm.shape[0]), range(cm.shape[1])):\n",
    "        plt.text(j, i, format(cm[i, j], fmt),\n",
    "                 horizontalalignment=\"center\",\n",
    "                 color=\"white\" if cm[i, j] > thresh else \"black\")\n",
    "\n",
    "    plt.tight_layout()\n",
    "    plt.ylabel('True label')\n",
    "    plt.xlabel('Predicted label')\n"
   ]
  },
  {
   "cell_type": "code",
   "execution_count": 53,
   "metadata": {
    "collapsed": true
   },
   "outputs": [],
   "source": [
    "labels = pipelines[0].classes_"
   ]
  },
  {
   "cell_type": "code",
   "execution_count": 54,
   "metadata": {
    "collapsed": true
   },
   "outputs": [],
   "source": [
    "cm = CONFUSION[1]"
   ]
  },
  {
   "cell_type": "code",
   "execution_count": 55,
   "metadata": {},
   "outputs": [
    {
     "name": "stdout",
     "output_type": "stream",
     "text": [
      "Confusion matrix, without normalization\n",
      "[[101 146  61]\n",
      " [ 26 567  84]\n",
      " [ 21 172 333]]\n"
     ]
    },
    {
     "data": {
      "image/png": "[encoded data removed]",
      "text/plain": [
       "<matplotlib.figure.Figure at 0x1a0cec0240>"
      ]
     },
     "metadata": {},
     "output_type": "display_data"
    }
   ],
   "source": [
    "plot_confusion_matrix(cm, labels)"
   ]
  },
  {
   "cell_type": "code",
   "execution_count": 56,
   "metadata": {},
   "outputs": [
    {
     "data": {
      "text/plain": [
       "(array([[101, 146,  61],\n",
       "        [ 26, 567,  84],\n",
       "        [ 21, 172, 333]]), 0.6464961708749172)"
      ]
     },
     "execution_count": 56,
     "metadata": {},
     "output_type": "execute_result"
    }
   ],
   "source": [
    "CONFUSION[1], F_SCORE[1]"
   ]
  },
  {
   "cell_type": "markdown",
   "metadata": {},
   "source": [
    "#### Quick test cases"
   ]
  },
  {
   "cell_type": "code",
   "execution_count": 57,
   "metadata": {},
   "outputs": [
    {
     "data": {
      "text/plain": [
       "array(['positive'], dtype=object)"
      ]
     },
     "execution_count": 57,
     "metadata": {},
     "output_type": "execute_result"
    }
   ],
   "source": [
    "pipelines[1].predict(['it was okay but it lacked emotion'])"
   ]
  },
  {
   "cell_type": "code",
   "execution_count": 58,
   "metadata": {},
   "outputs": [
    {
     "name": "stderr",
     "output_type": "stream",
     "text": [
      "/anaconda3/lib/python3.6/site-packages/nltk/twitter/__init__.py:20: UserWarning: The twython library has not been installed. Some functionality from the twitter package will not be available.\n",
      "  warnings.warn(\"The twython library has not been installed. \"\n"
     ]
    }
   ],
   "source": [
    "from nltk.sentiment import SentimentAnalyzer\n",
    "from nltk.sentiment.util import *"
   ]
  },
  {
   "cell_type": "code",
   "execution_count": 59,
   "metadata": {},
   "outputs": [
    {
     "data": {
      "text/plain": [
       "['I', \"don't\", 'like_NEG', 'the_NEG', 'movie_NEG', '.']"
      ]
     },
     "execution_count": 59,
     "metadata": {},
     "output_type": "execute_result"
    }
   ],
   "source": [
    "mark_negation(\"I don't like the movie .\".split())"
   ]
  },
  {
   "cell_type": "markdown",
   "metadata": {},
   "source": [
    "#### Alternative Vectorization (pre-trained word vectors) - NOT TO BE USED"
   ]
  },
  {
   "cell_type": "code",
   "execution_count": 447,
   "metadata": {
    "collapsed": true
   },
   "outputs": [],
   "source": [
    "from gensim.models.word2vec import Word2Vec \n",
    "from gensim.models.doc2vec import TaggedDocument"
   ]
  },
  {
   "cell_type": "code",
   "execution_count": 448,
   "metadata": {
    "collapsed": true
   },
   "outputs": [],
   "source": [
    "from tqdm import tqdm\n",
    "tqdm.pandas(desc=\"progress-bar\")"
   ]
  },
  {
   "cell_type": "code",
   "execution_count": 449,
   "metadata": {
    "collapsed": true
   },
   "outputs": [],
   "source": [
    "def labelizeTweets(tweets, label_type):\n",
    "    labelized = []\n",
    "    for i,v in tqdm(enumerate(tweets)):\n",
    "        label = '%s_%s'%(label_type,i)\n",
    "        labelized.append(TaggedDocument(v, [label]))\n",
    "    return labelized"
   ]
  },
  {
   "cell_type": "code",
   "execution_count": 450,
   "metadata": {
    "collapsed": true
   },
   "outputs": [],
   "source": [
    "TRAIN_TOKENS = pd.Series(TRAIN_DF).apply(grouping)\n",
    "DEV_TOKENS = pd.Series(DEV_DF).apply(grouping)"
   ]
  },
  {
   "cell_type": "code",
   "execution_count": 451,
   "metadata": {},
   "outputs": [
    {
     "name": "stderr",
     "output_type": "stream",
     "text": [
      "\n",
      "0it [00:00, ?it/s]\u001b[A\n",
      "8839it [00:00, 377460.88it/s]\u001b[A\n",
      "0it [00:00, ?it/s]\u001b[A\n",
      "1511it [00:00, 260153.25it/s]\u001b[A"
     ]
    }
   ],
   "source": [
    "x_train = labelizeTweets(TRAIN_TOKENS, 'TRAIN')\n",
    "x_test = labelizeTweets(DEV_TOKENS, 'TEST')"
   ]
  },
  {
   "cell_type": "code",
   "execution_count": 452,
   "metadata": {},
   "outputs": [
    {
     "data": {
      "text/plain": [
       "TaggedDocument(words=['gas', 'by', 'my', 'house', 'hit', '3', '39', '__punc_excl', 'i', 'be', 'go', 'to', 'chapel', 'hill', 'on', 'sit', '__emot_smiley'], tags=['TRAIN_0'])"
      ]
     },
     "execution_count": 452,
     "metadata": {},
     "output_type": "execute_result"
    }
   ],
   "source": [
    "x_train[0]"
   ]
  },
  {
   "cell_type": "code",
   "execution_count": 453,
   "metadata": {},
   "outputs": [
    {
     "name": "stderr",
     "output_type": "stream",
     "text": [
      "\n",
      "  0%|          | 0/8839 [00:00<?, ?it/s]\u001b[A\n",
      "100%|██████████| 8839/8839 [00:00<00:00, 1174809.17it/s]\u001b[A\n",
      "  0%|          | 0/8839 [00:00<?, ?it/s]\u001b[A\n",
      "100%|██████████| 8839/8839 [00:00<00:00, 432711.85it/s]\u001b[A"
     ]
    },
    {
     "data": {
      "text/plain": [
       "1101750"
      ]
     },
     "execution_count": 453,
     "metadata": {},
     "output_type": "execute_result"
    }
   ],
   "source": [
    "tweet_w2v = Word2Vec(size=200, min_count=10)\n",
    "tweet_w2v.build_vocab([x.words for x in tqdm(x_train)])\n",
    "tweet_w2v.train([x.words for x in tqdm(x_train)], total_examples=len(x_train), epochs=10)"
   ]
  },
  {
   "cell_type": "code",
   "execution_count": 468,
   "metadata": {},
   "outputs": [
    {
     "data": {
      "text/plain": [
       "[('year', 0.8586527705192566),\n",
       " ('best', 0.8182728290557861),\n",
       " ('first', 0.8166179656982422),\n",
       " ('1st', 0.8146964311599731),\n",
       " ('one', 0.8102284073829651),\n",
       " ('2nd', 0.8052255511283875),\n",
       " ('half', 0.786620020866394),\n",
       " ('3rd', 0.7859094142913818),\n",
       " ('end', 0.7806460857391357),\n",
       " ('5th', 0.7793829441070557)]"
      ]
     },
     "execution_count": 468,
     "metadata": {},
     "output_type": "execute_result"
    }
   ],
   "source": [
    "tweet_w2v.wv.most_similar('time')"
   ]
  },
  {
   "cell_type": "code",
   "execution_count": 455,
   "metadata": {},
   "outputs": [
    {
     "data": {
      "text/html": [
       "\n",
       "    <div class=\"bk-root\">\n",
       "        <a href=\"https://bokeh.pydata.org\" target=\"_blank\" class=\"bk-logo bk-logo-small bk-logo-notebook\"></a>\n",
       "        <span id=\"228a7ae3-366e-45df-ab99-1e499884898d\">Loading BokehJS ...</span>\n",
       "    </div>"
      ]
     },
     "metadata": {},
     "output_type": "display_data"
    },
    {
     "data": {
      "application/javascript": [
       "\n",
       "(function(root) {\n",
       "  function now() {\n",
       "    return new Date();\n",
       "  }\n",
       "\n",
       "  var force = true;\n",
       "\n",
       "  if (typeof (root._bokeh_onload_callbacks) === \"undefined\" || force === true) {\n",
       "    root._bokeh_onload_callbacks = [];\n",
       "    root._bokeh_is_loading = undefined;\n",
       "  }\n",
       "\n",
       "  var JS_MIME_TYPE = 'application/javascript';\n",
       "  var HTML_MIME_TYPE = 'text/html';\n",
       "  var EXEC_MIME_TYPE = 'application/vnd.bokehjs_exec.v0+json';\n",
       "  var CLASS_NAME = 'output_bokeh rendered_html';\n",
       "\n",
       "  /**\n",
       "   * Render data to the DOM node\n",
       "   */\n",
       "  function render(props, node) {\n",
       "    var script = document.createElement(\"script\");\n",
       "    node.appendChild(script);\n",
       "  }\n",
       "\n",
       "  /**\n",
       "   * Handle when an output is cleared or removed\n",
       "   */\n",
       "  function handleClearOutput(event, handle) {\n",
       "    var cell = handle.cell;\n",
       "\n",
       "    var id = cell.output_area._bokeh_element_id;\n",
       "    var server_id = cell.output_area._bokeh_server_id;\n",
       "    // Clean up Bokeh references\n",
       "    if (id !== undefined) {\n",
       "      Bokeh.index[id].model.document.clear();\n",
       "      delete Bokeh.index[id];\n",
       "    }\n",
       "\n",
       "    if (server_id !== undefined) {\n",
       "      // Clean up Bokeh references\n",
       "      var cmd = \"from bokeh.io.state import curstate; print(curstate().uuid_to_server['\" + server_id + \"'].get_sessions()[0].document.roots[0]._id)\";\n",
       "      cell.notebook.kernel.execute(cmd, {\n",
       "        iopub: {\n",
       "          output: function(msg) {\n",
       "            var element_id = msg.content.text.trim();\n",
       "            Bokeh.index[element_id].model.document.clear();\n",
       "            delete Bokeh.index[element_id];\n",
       "          }\n",
       "        }\n",
       "      });\n",
       "      // Destroy server and session\n",
       "      var cmd = \"import bokeh.io.notebook as ion; ion.destroy_server('\" + server_id + \"')\";\n",
       "      cell.notebook.kernel.execute(cmd);\n",
       "    }\n",
       "  }\n",
       "\n",
       "  /**\n",
       "   * Handle when a new output is added\n",
       "   */\n",
       "  function handleAddOutput(event, handle) {\n",
       "    var output_area = handle.output_area;\n",
       "    var output = handle.output;\n",
       "\n",
       "    // limit handleAddOutput to display_data with EXEC_MIME_TYPE content only\n",
       "    if ((output.output_type != \"display_data\") || (!output.data.hasOwnProperty(EXEC_MIME_TYPE))) {\n",
       "      return\n",
       "    }\n",
       "\n",
       "    var toinsert = output_area.element.find(`.${CLASS_NAME.split(' ')[0]}`);\n",
       "\n",
       "    if (output.metadata[EXEC_MIME_TYPE][\"id\"] !== undefined) {\n",
       "      toinsert[0].firstChild.textContent = output.data[JS_MIME_TYPE];\n",
       "      // store reference to embed id on output_area\n",
       "      output_area._bokeh_element_id = output.metadata[EXEC_MIME_TYPE][\"id\"];\n",
       "    }\n",
       "    if (output.metadata[EXEC_MIME_TYPE][\"server_id\"] !== undefined) {\n",
       "      var bk_div = document.createElement(\"div\");\n",
       "      bk_div.innerHTML = output.data[HTML_MIME_TYPE];\n",
       "      var script_attrs = bk_div.children[0].attributes;\n",
       "      for (var i = 0; i < script_attrs.length; i++) {\n",
       "        toinsert[0].firstChild.setAttribute(script_attrs[i].name, script_attrs[i].value);\n",
       "      }\n",
       "      // store reference to server id on output_area\n",
       "      output_area._bokeh_server_id = output.metadata[EXEC_MIME_TYPE][\"server_id\"];\n",
       "    }\n",
       "  }\n",
       "\n",
       "  function register_renderer(events, OutputArea) {\n",
       "\n",
       "    function append_mime(data, metadata, element) {\n",
       "      // create a DOM node to render to\n",
       "      var toinsert = this.create_output_subarea(\n",
       "        metadata,\n",
       "        CLASS_NAME,\n",
       "        EXEC_MIME_TYPE\n",
       "      );\n",
       "      this.keyboard_manager.register_events(toinsert);\n",
       "      // Render to node\n",
       "      var props = {data: data, metadata: metadata[EXEC_MIME_TYPE]};\n",
       "      render(props, toinsert[0]);\n",
       "      element.append(toinsert);\n",
       "      return toinsert\n",
       "    }\n",
       "\n",
       "    /* Handle when an output is cleared or removed */\n",
       "    events.on('clear_output.CodeCell', handleClearOutput);\n",
       "    events.on('delete.Cell', handleClearOutput);\n",
       "\n",
       "    /* Handle when a new output is added */\n",
       "    events.on('output_added.OutputArea', handleAddOutput);\n",
       "\n",
       "    /**\n",
       "     * Register the mime type and append_mime function with output_area\n",
       "     */\n",
       "    OutputArea.prototype.register_mime_type(EXEC_MIME_TYPE, append_mime, {\n",
       "      /* Is output safe? */\n",
       "      safe: true,\n",
       "      /* Index of renderer in `output_area.display_order` */\n",
       "      index: 0\n",
       "    });\n",
       "  }\n",
       "\n",
       "  // register the mime type if in Jupyter Notebook environment and previously unregistered\n",
       "  if (root.Jupyter !== undefined) {\n",
       "    var events = require('base/js/events');\n",
       "    var OutputArea = require('notebook/js/outputarea').OutputArea;\n",
       "\n",
       "    if (OutputArea.prototype.mime_types().indexOf(EXEC_MIME_TYPE) == -1) {\n",
       "      register_renderer(events, OutputArea);\n",
       "    }\n",
       "  }\n",
       "\n",
       "  \n",
       "  if (typeof (root._bokeh_timeout) === \"undefined\" || force === true) {\n",
       "    root._bokeh_timeout = Date.now() + 5000;\n",
       "    root._bokeh_failed_load = false;\n",
       "  }\n",
       "\n",
       "  var NB_LOAD_WARNING = {'data': {'text/html':\n",
       "     \"<div style='background-color: #fdd'>\\n\"+\n",
       "     \"<p>\\n\"+\n",
       "     \"BokehJS does not appear to have successfully loaded. If loading BokehJS from CDN, this \\n\"+\n",
       "     \"may be due to a slow or bad network connection. Possible fixes:\\n\"+\n",
       "     \"</p>\\n\"+\n",
       "     \"<ul>\\n\"+\n",
       "     \"<li>re-rerun `output_notebook()` to attempt to load from CDN again, or</li>\\n\"+\n",
       "     \"<li>use INLINE resources instead, as so:</li>\\n\"+\n",
       "     \"</ul>\\n\"+\n",
       "     \"<code>\\n\"+\n",
       "     \"from bokeh.resources import INLINE\\n\"+\n",
       "     \"output_notebook(resources=INLINE)\\n\"+\n",
       "     \"</code>\\n\"+\n",
       "     \"</div>\"}};\n",
       "\n",
       "  function display_loaded() {\n",
       "    var el = document.getElementById(\"228a7ae3-366e-45df-ab99-1e499884898d\");\n",
       "    if (el != null) {\n",
       "      el.textContent = \"BokehJS is loading...\";\n",
       "    }\n",
       "    if (root.Bokeh !== undefined) {\n",
       "      if (el != null) {\n",
       "        el.textContent = \"BokehJS \" + root.Bokeh.version + \" successfully loaded.\";\n",
       "      }\n",
       "    } else if (Date.now() < root._bokeh_timeout) {\n",
       "      setTimeout(display_loaded, 100)\n",
       "    }\n",
       "  }\n",
       "\n",
       "\n",
       "  function run_callbacks() {\n",
       "    try {\n",
       "      root._bokeh_onload_callbacks.forEach(function(callback) { callback() });\n",
       "    }\n",
       "    finally {\n",
       "      delete root._bokeh_onload_callbacks\n",
       "    }\n",
       "    console.info(\"Bokeh: all callbacks have finished\");\n",
       "  }\n",
       "\n",
       "  function load_libs(js_urls, callback) {\n",
       "    root._bokeh_onload_callbacks.push(callback);\n",
       "    if (root._bokeh_is_loading > 0) {\n",
       "      console.log(\"Bokeh: BokehJS is being loaded, scheduling callback at\", now());\n",
       "      return null;\n",
       "    }\n",
       "    if (js_urls == null || js_urls.length === 0) {\n",
       "      run_callbacks();\n",
       "      return null;\n",
       "    }\n",
       "    console.log(\"Bokeh: BokehJS not loaded, scheduling load and callback at\", now());\n",
       "    root._bokeh_is_loading = js_urls.length;\n",
       "    for (var i = 0; i < js_urls.length; i++) {\n",
       "      var url = js_urls[i];\n",
       "      var s = document.createElement('script');\n",
       "      s.src = url;\n",
       "      s.async = false;\n",
       "      s.onreadystatechange = s.onload = function() {\n",
       "        root._bokeh_is_loading--;\n",
       "        if (root._bokeh_is_loading === 0) {\n",
       "          console.log(\"Bokeh: all BokehJS libraries loaded\");\n",
       "          run_callbacks()\n",
       "        }\n",
       "      };\n",
       "      s.onerror = function() {\n",
       "        console.warn(\"failed to load library \" + url);\n",
       "      };\n",
       "      console.log(\"Bokeh: injecting script tag for BokehJS library: \", url);\n",
       "      document.getElementsByTagName(\"head\")[0].appendChild(s);\n",
       "    }\n",
       "  };var element = document.getElementById(\"228a7ae3-366e-45df-ab99-1e499884898d\");\n",
       "  if (element == null) {\n",
       "    console.log(\"Bokeh: ERROR: autoload.js configured with elementid '228a7ae3-366e-45df-ab99-1e499884898d' but no matching script tag was found. \")\n",
       "    return false;\n",
       "  }\n",
       "\n",
       "  var js_urls = [\"https://cdn.pydata.org/bokeh/release/bokeh-0.12.10.min.js\", \"https://cdn.pydata.org/bokeh/release/bokeh-widgets-0.12.10.min.js\", \"https://cdn.pydata.org/bokeh/release/bokeh-tables-0.12.10.min.js\", \"https://cdn.pydata.org/bokeh/release/bokeh-gl-0.12.10.min.js\"];\n",
       "\n",
       "  var inline_js = [\n",
       "    function(Bokeh) {\n",
       "      Bokeh.set_log_level(\"info\");\n",
       "    },\n",
       "    \n",
       "    function(Bokeh) {\n",
       "      \n",
       "    },\n",
       "    function(Bokeh) {\n",
       "      console.log(\"Bokeh: injecting CSS: https://cdn.pydata.org/bokeh/release/bokeh-0.12.10.min.css\");\n",
       "      Bokeh.embed.inject_css(\"https://cdn.pydata.org/bokeh/release/bokeh-0.12.10.min.css\");\n",
       "      console.log(\"Bokeh: injecting CSS: https://cdn.pydata.org/bokeh/release/bokeh-widgets-0.12.10.min.css\");\n",
       "      Bokeh.embed.inject_css(\"https://cdn.pydata.org/bokeh/release/bokeh-widgets-0.12.10.min.css\");\n",
       "      console.log(\"Bokeh: injecting CSS: https://cdn.pydata.org/bokeh/release/bokeh-tables-0.12.10.min.css\");\n",
       "      Bokeh.embed.inject_css(\"https://cdn.pydata.org/bokeh/release/bokeh-tables-0.12.10.min.css\");\n",
       "    }\n",
       "  ];\n",
       "\n",
       "  function run_inline_js() {\n",
       "    \n",
       "    if ((root.Bokeh !== undefined) || (force === true)) {\n",
       "      for (var i = 0; i < inline_js.length; i++) {\n",
       "        inline_js[i].call(root, root.Bokeh);\n",
       "      }if (force === true) {\n",
       "        display_loaded();\n",
       "      }} else if (Date.now() < root._bokeh_timeout) {\n",
       "      setTimeout(run_inline_js, 100);\n",
       "    } else if (!root._bokeh_failed_load) {\n",
       "      console.log(\"Bokeh: BokehJS failed to load within specified timeout.\");\n",
       "      root._bokeh_failed_load = true;\n",
       "    } else if (force !== true) {\n",
       "      var cell = $(document.getElementById(\"228a7ae3-366e-45df-ab99-1e499884898d\")).parents('.cell').data().cell;\n",
       "      cell.output_area.append_execute_result(NB_LOAD_WARNING)\n",
       "    }\n",
       "\n",
       "  }\n",
       "\n",
       "  if (root._bokeh_is_loading === 0) {\n",
       "    console.log(\"Bokeh: BokehJS loaded, going straight to plotting\");\n",
       "    run_inline_js();\n",
       "  } else {\n",
       "    load_libs(js_urls, function() {\n",
       "      console.log(\"Bokeh: BokehJS plotting callback run at\", now());\n",
       "      run_inline_js();\n",
       "    });\n",
       "  }\n",
       "}(window));"
      ],
      "application/vnd.bokehjs_load.v0+json": "\n(function(root) {\n  function now() {\n    return new Date();\n  }\n\n  var force = true;\n\n  if (typeof (root._bokeh_onload_callbacks) === \"undefined\" || force === true) {\n    root._bokeh_onload_callbacks = [];\n    root._bokeh_is_loading = undefined;\n  }\n\n  \n\n  \n  if (typeof (root._bokeh_timeout) === \"undefined\" || force === true) {\n    root._bokeh_timeout = Date.now() + 5000;\n    root._bokeh_failed_load = false;\n  }\n\n  var NB_LOAD_WARNING = {'data': {'text/html':\n     \"<div style='background-color: #fdd'>\\n\"+\n     \"<p>\\n\"+\n     \"BokehJS does not appear to have successfully loaded. If loading BokehJS from CDN, this \\n\"+\n     \"may be due to a slow or bad network connection. Possible fixes:\\n\"+\n     \"</p>\\n\"+\n     \"<ul>\\n\"+\n     \"<li>re-rerun `output_notebook()` to attempt to load from CDN again, or</li>\\n\"+\n     \"<li>use INLINE resources instead, as so:</li>\\n\"+\n     \"</ul>\\n\"+\n     \"<code>\\n\"+\n     \"from bokeh.resources import INLINE\\n\"+\n     \"output_notebook(resources=INLINE)\\n\"+\n     \"</code>\\n\"+\n     \"</div>\"}};\n\n  function display_loaded() {\n    var el = document.getElementById(\"228a7ae3-366e-45df-ab99-1e499884898d\");\n    if (el != null) {\n      el.textContent = \"BokehJS is loading...\";\n    }\n    if (root.Bokeh !== undefined) {\n      if (el != null) {\n        el.textContent = \"BokehJS \" + root.Bokeh.version + \" successfully loaded.\";\n      }\n    } else if (Date.now() < root._bokeh_timeout) {\n      setTimeout(display_loaded, 100)\n    }\n  }\n\n\n  function run_callbacks() {\n    try {\n      root._bokeh_onload_callbacks.forEach(function(callback) { callback() });\n    }\n    finally {\n      delete root._bokeh_onload_callbacks\n    }\n    console.info(\"Bokeh: all callbacks have finished\");\n  }\n\n  function load_libs(js_urls, callback) {\n    root._bokeh_onload_callbacks.push(callback);\n    if (root._bokeh_is_loading > 0) {\n      console.log(\"Bokeh: BokehJS is being loaded, scheduling callback at\", now());\n      return null;\n    }\n    if (js_urls == null || js_urls.length === 0) {\n      run_callbacks();\n      return null;\n    }\n    console.log(\"Bokeh: BokehJS not loaded, scheduling load and callback at\", now());\n    root._bokeh_is_loading = js_urls.length;\n    for (var i = 0; i < js_urls.length; i++) {\n      var url = js_urls[i];\n      var s = document.createElement('script');\n      s.src = url;\n      s.async = false;\n      s.onreadystatechange = s.onload = function() {\n        root._bokeh_is_loading--;\n        if (root._bokeh_is_loading === 0) {\n          console.log(\"Bokeh: all BokehJS libraries loaded\");\n          run_callbacks()\n        }\n      };\n      s.onerror = function() {\n        console.warn(\"failed to load library \" + url);\n      };\n      console.log(\"Bokeh: injecting script tag for BokehJS library: \", url);\n      document.getElementsByTagName(\"head\")[0].appendChild(s);\n    }\n  };var element = document.getElementById(\"228a7ae3-366e-45df-ab99-1e499884898d\");\n  if (element == null) {\n    console.log(\"Bokeh: ERROR: autoload.js configured with elementid '228a7ae3-366e-45df-ab99-1e499884898d' but no matching script tag was found. \")\n    return false;\n  }\n\n  var js_urls = [\"https://cdn.pydata.org/bokeh/release/bokeh-0.12.10.min.js\", \"https://cdn.pydata.org/bokeh/release/bokeh-widgets-0.12.10.min.js\", \"https://cdn.pydata.org/bokeh/release/bokeh-tables-0.12.10.min.js\", \"https://cdn.pydata.org/bokeh/release/bokeh-gl-0.12.10.min.js\"];\n\n  var inline_js = [\n    function(Bokeh) {\n      Bokeh.set_log_level(\"info\");\n    },\n    \n    function(Bokeh) {\n      \n    },\n    function(Bokeh) {\n      console.log(\"Bokeh: injecting CSS: https://cdn.pydata.org/bokeh/release/bokeh-0.12.10.min.css\");\n      Bokeh.embed.inject_css(\"https://cdn.pydata.org/bokeh/release/bokeh-0.12.10.min.css\");\n      console.log(\"Bokeh: injecting CSS: https://cdn.pydata.org/bokeh/release/bokeh-widgets-0.12.10.min.css\");\n      Bokeh.embed.inject_css(\"https://cdn.pydata.org/bokeh/release/bokeh-widgets-0.12.10.min.css\");\n      console.log(\"Bokeh: injecting CSS: https://cdn.pydata.org/bokeh/release/bokeh-tables-0.12.10.min.css\");\n      Bokeh.embed.inject_css(\"https://cdn.pydata.org/bokeh/release/bokeh-tables-0.12.10.min.css\");\n    }\n  ];\n\n  function run_inline_js() {\n    \n    if ((root.Bokeh !== undefined) || (force === true)) {\n      for (var i = 0; i < inline_js.length; i++) {\n        inline_js[i].call(root, root.Bokeh);\n      }if (force === true) {\n        display_loaded();\n      }} else if (Date.now() < root._bokeh_timeout) {\n      setTimeout(run_inline_js, 100);\n    } else if (!root._bokeh_failed_load) {\n      console.log(\"Bokeh: BokehJS failed to load within specified timeout.\");\n      root._bokeh_failed_load = true;\n    } else if (force !== true) {\n      var cell = $(document.getElementById(\"228a7ae3-366e-45df-ab99-1e499884898d\")).parents('.cell').data().cell;\n      cell.output_area.append_execute_result(NB_LOAD_WARNING)\n    }\n\n  }\n\n  if (root._bokeh_is_loading === 0) {\n    console.log(\"Bokeh: BokehJS loaded, going straight to plotting\");\n    run_inline_js();\n  } else {\n    load_libs(js_urls, function() {\n      console.log(\"Bokeh: BokehJS plotting callback run at\", now());\n      run_inline_js();\n    });\n  }\n}(window));"
     },
     "metadata": {},
     "output_type": "display_data"
    },
    {
     "name": "stdout",
     "output_type": "stream",
     "text": [
      "[t-SNE] Computing 91 nearest neighbors...\n",
      "[t-SNE] Indexed 2123 samples in 0.008s...\n",
      "[t-SNE] Computed neighbors for 2123 samples in 1.722s...\n",
      "[t-SNE] Computed conditional probabilities for sample 1000 / 2123\n",
      "[t-SNE] Computed conditional probabilities for sample 2000 / 2123\n",
      "[t-SNE] Computed conditional probabilities for sample 2123 / 2123\n",
      "[t-SNE] Mean sigma: 0.107869\n",
      "[t-SNE] KL divergence after 250 iterations with early exaggeration: 68.907883\n",
      "[t-SNE] Error after 1000 iterations: 1.131708\n"
     ]
    },
    {
     "data": {
      "text/html": [
       "\n",
       "<div class=\"bk-root\">\n",
       "    <div class=\"bk-plotdiv\" id=\"88f055a2-3331-4b3f-8d41-0930055c9246\"></div>\n",
       "</div>"
      ]
     },
     "metadata": {},
     "output_type": "display_data"
    },
    {
     "data": {
      "application/javascript": [
       "(function(root) {\n",
       "  function embed_document(root) {\n",
       "    var docs_json = {\"8b83cb5f-38c4-4410-b09f-15c72664ea7f\":{\"roots\":{\"references\":[{\"attributes\":{\"callback\":null},\"id\":\"f23d1b6e-1dcf-4b83-a13a-1da6ad799eea\",\"type\":\"DataRange1d\"},{\"attributes\":{},\"id\":\"7e2b9dba-b631-4cd3-8284-fe6d9db0c30e\",\"type\":\"PanTool\"},{\"attributes\":{},\"id\":\"36c926ba-67cb-46a7-a6a8-bdd93cf4fd61\",\"type\":\"WheelZoomTool\"},{\"attributes\":{\"overlay\":{\"id\":\"2d71476b-e20a-4828-8df7-6a2210f23e53\",\"type\":\"BoxAnnotation\"}},\"id\":\"405b63a6-b59e-48bc-89f4-d2266cdda2b9\",\"type\":\"BoxZoomTool\"},{\"attributes\":{},\"id\":\"ed843798-5fa8-43e1-b993-0a32b2259640\",\"type\":\"ResetTool\"},{\"attributes\":{\"callback\":null,\"tooltips\":[[\"word\",\"@words\"]]},\"id\":\"ff76736c-1318-407a-ac75-ced6de8381a2\",\"type\":\"HoverTool\"},{\"attributes\":{},\"id\":\"5c4e745b-6931-43e7-8b01-08c2f432bd6c\",\"type\":\"SaveTool\"},{\"attributes\":{\"callback\":null},\"id\":\"af9afc4f-578d-4687-b7db-646354e5a6b0\",\"type\":\"DataRange1d\"},{\"attributes\":{\"callback\":null,\"column_names\":[\"x\",\"y\",\"words\",\"index\"],\"data\":{\"index\":[0,1,2,3,4,5,6,7,8,9,10,11,12,13,14,15,16,17,18,19,20,21,22,23,24,25,26,27,28,29,30,31,32,33,34,35,36,37,38,39,40,41,42,43,44,45,46,47,48,49,50,51,52,53,54,55,56,57,58,59,60,61,62,63,64,65,66,67,68,69,70,71,72,73,74,75,76,77,78,79,80,81,82,83,84,85,86,87,88,89,90,91,92,93,94,95,96,97,98,99,100,101,102,103,104,105,106,107,108,109,110,111,112,113,114,115,116,117,118,119,120,121,122,123,124,125,126,127,128,129,130,131,132,133,134,135,136,137,138,139,140,141,142,143,144,145,146,147,148,149,150,151,152,153,154,155,156,157,158,159,160,161,162,163,164,165,166,167,168,169,170,171,172,173,174,175,176,177,178,179,180,181,182,183,184,185,186,187,188,189,190,191,192,193,194,195,196,197,198,199,200,201,202,203,204,205,206,207,208,209,210,211,212,213,214,215,216,217,218,219,220,221,222,223,224,225,226,227,228,229,230,231,232,233,234,235,236,237,238,239,240,241,242,243,244,245,246,247,248,249,250,251,252,253,254,255,256,257,258,259,260,261,262,263,264,265,266,267,268,269,270,271,272,273,274,275,276,277,278,279,280,281,282,283,284,285,286,287,288,289,290,291,292,293,294,295,296,297,298,299,300,301,302,303,304,305,306,307,308,309,310,311,312,313,314,315,316,317,318,319,320,321,322,323,324,325,326,327,328,329,330,331,332,333,334,335,336,337,338,339,340,341,342,343,344,345,346,347,348,349,350,351,352,353,354,355,356,357,358,359,360,361,362,363,364,365,366,367,368,369,370,371,372,373,374,375,376,377,378,379,380,381,382,383,384,385,386,387,388,389,390,391,392,393,394,395,396,397,398,399,400,401,402,403,404,405,406,407,408,409,410,411,412,413,414,415,416,417,418,419,420,421,422,423,424,425,426,427,428,429,430,431,432,433,434,435,436,437,438,439,440,441,442,443,444,445,446,447,448,449,450,451,452,453,454,455,456,457,458,459,460,461,462,463,464,465,466,467,468,469,470,471,472,473,474,475,476,477,478,479,480,481,482,483,484,485,486,487,488,489,490,491,492,493,494,495,496,497,498,499,500,501,502,503,504,505,506,507,508,509,510,511,512,513,514,515,516,517,518,519,520,521,522,523,524,525,526,527,528,529,530,531,532,533,534,535,536,537,538,539,540,541,542,543,544,545,546,547,548,549,550,551,552,553,554,555,556,557,558,559,560,561,562,563,564,565,566,567,568,569,570,571,572,573,574,575,576,577,578,579,580,581,582,583,584,585,586,587,588,589,590,591,592,593,594,595,596,597,598,599,600,601,602,603,604,605,606,607,608,609,610,611,612,613,614,615,616,617,618,619,620,621,622,623,624,625,626,627,628,629,630,631,632,633,634,635,636,637,638,639,640,641,642,643,644,645,646,647,648,649,650,651,652,653,654,655,656,657,658,659,660,661,662,663,664,665,666,667,668,669,670,671,672,673,674,675,676,677,678,679,680,681,682,683,684,685,686,687,688,689,690,691,692,693,694,695,696,697,698,699,700,701,702,703,704,705,706,707,708,709,710,711,712,713,714,715,716,717,718,719,720,721,722,723,724,725,726,727,728,729,730,731,732,733,734,735,736,737,738,739,740,741,742,743,744,745,746,747,748,749,750,751,752,753,754,755,756,757,758,759,760,761,762,763,764,765,766,767,768,769,770,771,772,773,774,775,776,777,778,779,780,781,782,783,784,785,786,787,788,789,790,791,792,793,794,795,796,797,798,799,800,801,802,803,804,805,806,807,808,809,810,811,812,813,814,815,816,817,818,819,820,821,822,823,824,825,826,827,828,829,830,831,832,833,834,835,836,837,838,839,840,841,842,843,844,845,846,847,848,849,850,851,852,853,854,855,856,857,858,859,860,861,862,863,864,865,866,867,868,869,870,871,872,873,874,875,876,877,878,879,880,881,882,883,884,885,886,887,888,889,890,891,892,893,894,895,896,897,898,899,900,901,902,903,904,905,906,907,908,909,910,911,912,913,914,915,916,917,918,919,920,921,922,923,924,925,926,927,928,929,930,931,932,933,934,935,936,937,938,939,940,941,942,943,944,945,946,947,948,949,950,951,952,953,954,955,956,957,958,959,960,961,962,963,964,965,966,967,968,969,970,971,972,973,974,975,976,977,978,979,980,981,982,983,984,985,986,987,988,989,990,991,992,993,994,995,996,997,998,999,1000,1001,1002,1003,1004,1005,1006,1007,1008,1009,1010,1011,1012,1013,1014,1015,1016,1017,1018,1019,1020,1021,1022,1023,1024,1025,1026,1027,1028,1029,1030,1031,1032,1033,1034,1035,1036,1037,1038,1039,1040,1041,1042,1043,1044,1045,1046,1047,1048,1049,1050,1051,1052,1053,1054,1055,1056,1057,1058,1059,1060,1061,1062,1063,1064,1065,1066,1067,1068,1069,1070,1071,1072,1073,1074,1075,1076,1077,1078,1079,1080,1081,1082,1083,1084,1085,1086,1087,1088,1089,1090,1091,1092,1093,1094,1095,1096,1097,1098,1099,1100,1101,1102,1103,1104,1105,1106,1107,1108,1109,1110,1111,1112,1113,1114,1115,1116,1117,1118,1119,1120,1121,1122,1123,1124,1125,1126,1127,1128,1129,1130,1131,1132,1133,1134,1135,1136,1137,1138,1139,1140,1141,1142,1143,1144,1145,1146,1147,1148,1149,1150,1151,1152,1153,1154,1155,1156,1157,1158,1159,1160,1161,1162,1163,1164,1165,1166,1167,1168,1169,1170,1171,1172,1173,1174,1175,1176,1177,1178,1179,1180,1181,1182,1183,1184,1185,1186,1187,1188,1189,1190,1191,1192,1193,1194,1195,1196,1197,1198,1199,1200,1201,1202,1203,1204,1205,1206,1207,1208,1209,1210,1211,1212,1213,1214,1215,1216,1217,1218,1219,1220,1221,1222,1223,1224,1225,1226,1227,1228,1229,1230,1231,1232,1233,1234,1235,1236,1237,1238,1239,1240,1241,1242,1243,1244,1245,1246,1247,1248,1249,1250,1251,1252,1253,1254,1255,1256,1257,1258,1259,1260,1261,1262,1263,1264,1265,1266,1267,1268,1269,1270,1271,1272,1273,1274,1275,1276,1277,1278,1279,1280,1281,1282,1283,1284,1285,1286,1287,1288,1289,1290,1291,1292,1293,1294,1295,1296,1297,1298,1299,1300,1301,1302,1303,1304,1305,1306,1307,1308,1309,1310,1311,1312,1313,1314,1315,1316,1317,1318,1319,1320,1321,1322,1323,1324,1325,1326,1327,1328,1329,1330,1331,1332,1333,1334,1335,1336,1337,1338,1339,1340,1341,1342,1343,1344,1345,1346,1347,1348,1349,1350,1351,1352,1353,1354,1355,1356,1357,1358,1359,1360,1361,1362,1363,1364,1365,1366,1367,1368,1369,1370,1371,1372,1373,1374,1375,1376,1377,1378,1379,1380,1381,1382,1383,1384,1385,1386,1387,1388,1389,1390,1391,1392,1393,1394,1395,1396,1397,1398,1399,1400,1401,1402,1403,1404,1405,1406,1407,1408,1409,1410,1411,1412,1413,1414,1415,1416,1417,1418,1419,1420,1421,1422,1423,1424,1425,1426,1427,1428,1429,1430,1431,1432,1433,1434,1435,1436,1437,1438,1439,1440,1441,1442,1443,1444,1445,1446,1447,1448,1449,1450,1451,1452,1453,1454,1455,1456,1457,1458,1459,1460,1461,1462,1463,1464,1465,1466,1467,1468,1469,1470,1471,1472,1473,1474,1475,1476,1477,1478,1479,1480,1481,1482,1483,1484,1485,1486,1487,1488,1489,1490,1491,1492,1493,1494,1495,1496,1497,1498,1499,1500,1501,1502,1503,1504,1505,1506,1507,1508,1509,1510,1511,1512,1513,1514,1515,1516,1517,1518,1519,1520,1521,1522,1523,1524,1525,1526,1527,1528,1529,1530,1531,1532,1533,1534,1535,1536,1537,1538,1539,1540,1541,1542,1543,1544,1545,1546,1547,1548,1549,1550,1551,1552,1553,1554,1555,1556,1557,1558,1559,1560,1561,1562,1563,1564,1565,1566,1567,1568,1569,1570,1571,1572,1573,1574,1575,1576,1577,1578,1579,1580,1581,1582,1583,1584,1585,1586,1587,1588,1589,1590,1591,1592,1593,1594,1595,1596,1597,1598,1599,1600,1601,1602,1603,1604,1605,1606,1607,1608,1609,1610,1611,1612,1613,1614,1615,1616,1617,1618,1619,1620,1621,1622,1623,1624,1625,1626,1627,1628,1629,1630,1631,1632,1633,1634,1635,1636,1637,1638,1639,1640,1641,1642,1643,1644,1645,1646,1647,1648,1649,1650,1651,1652,1653,1654,1655,1656,1657,1658,1659,1660,1661,1662,1663,1664,1665,1666,1667,1668,1669,1670,1671,1672,1673,1674,1675,1676,1677,1678,1679,1680,1681,1682,1683,1684,1685,1686,1687,1688,1689,1690,1691,1692,1693,1694,1695,1696,1697,1698,1699,1700,1701,1702,1703,1704,1705,1706,1707,1708,1709,1710,1711,1712,1713,1714,1715,1716,1717,1718,1719,1720,1721,1722,1723,1724,1725,1726,1727,1728,1729,1730,1731,1732,1733,1734,1735,1736,1737,1738,1739,1740,1741,1742,1743,1744,1745,1746,1747,1748,1749,1750,1751,1752,1753,1754,1755,1756,1757,1758,1759,1760,1761,1762,1763,1764,1765,1766,1767,1768,1769,1770,1771,1772,1773,1774,1775,1776,1777,1778,1779,1780,1781,1782,1783,1784,1785,1786,1787,1788,1789,1790,1791,1792,1793,1794,1795,1796,1797,1798,1799,1800,1801,1802,1803,1804,1805,1806,1807,1808,1809,1810,1811,1812,1813,1814,1815,1816,1817,1818,1819,1820,1821,1822,1823,1824,1825,1826,1827,1828,1829,1830,1831,1832,1833,1834,1835,1836,1837,1838,1839,1840,1841,1842,1843,1844,1845,1846,1847,1848,1849,1850,1851,1852,1853,1854,1855,1856,1857,1858,1859,1860,1861,1862,1863,1864,1865,1866,1867,1868,1869,1870,1871,1872,1873,1874,1875,1876,1877,1878,1879,1880,1881,1882,1883,1884,1885,1886,1887,1888,1889,1890,1891,1892,1893,1894,1895,1896,1897,1898,1899,1900,1901,1902,1903,1904,1905,1906,1907,1908,1909,1910,1911,1912,1913,1914,1915,1916,1917,1918,1919,1920,1921,1922,1923,1924,1925,1926,1927,1928,1929,1930,1931,1932,1933,1934,1935,1936,1937,1938,1939,1940,1941,1942,1943,1944,1945,1946,1947,1948,1949,1950,1951,1952,1953,1954,1955,1956,1957,1958,1959,1960,1961,1962,1963,1964,1965,1966,1967,1968,1969,1970,1971,1972,1973,1974,1975,1976,1977,1978,1979,1980,1981,1982,1983,1984,1985,1986,1987,1988,1989,1990,1991,1992,1993,1994,1995,1996,1997,1998,1999,2000,2001,2002,2003,2004,2005,2006,2007,2008,2009,2010,2011,2012,2013,2014,2015,2016,2017,2018,2019,2020,2021,2022,2023,2024,2025,2026,2027,2028,2029,2030,2031,2032,2033,2034,2035,2036,2037,2038,2039,2040,2041,2042,2043,2044,2045,2046,2047,2048,2049,2050,2051,2052,2053,2054,2055,2056,2057,2058,2059,2060,2061,2062,2063,2064,2065,2066,2067,2068,2069,2070,2071,2072,2073,2074,2075,2076,2077,2078,2079,2080,2081,2082,2083,2084,2085,2086,2087,2088,2089,2090,2091,2092,2093,2094,2095,2096,2097,2098,2099,2100,2101,2102,2103,2104,2105,2106,2107,2108,2109,2110,2111,2112,2113,2114,2115,2116,2117,2118,2119,2120,2121,2122],\"words\":[\"by\",\"my\",\"house\",\"hit\",\"3\",\"__punc_excl\",\"i\",\"be\",\"go\",\"to\",\"chapel\",\"hill\",\"on\",\"sit\",\"__emot_smiley\",\"still\",\"shit\",\"watch\",\"rafa\",\"and\",\"deal\",\"with\",\"him\",\"saturday\",\"its\",\"not\",\"that\",\"a\",\"fan\",\"just\",\"hate\",\"nick\",\"can\",\"wait\",\"for\",\"february\",\"say\",\"israel\",\"iron\",\"their\",\"keep\",\"talk\",\"like\",\"we\",\"may\",\"end\",\"up\",\"find\",\"out\",\"tehran\",\"mon\",\"obama\",\"try\",\"tie\",\"the\",\"__url\",\"via\",\"__hndl\",\"no\",\"vote\",\"mitt\",\"romney\",\"through\",\"this\",\"whole\",\"movie\",\"harry\",\"ron\",\"at\",\"christmas\",\"j\",\"11th\",\"main\",\"team\",\"poland\",\"hopefully\",\"an\",\"make\",\"it\",\"tough\",\"week\",\"of\",\"train\",\"tomorrow\",\"about\",\"act\",\"decide\",\"where\",\"want\",\"college\",\"apply\",\"everything\",\"me\",\"why\",\"happy\",\"valentines\",\"day\",\"trend\",\"__punc_ques\",\"14th\",\"12th\",\"june\",\"smh\",\"they\",\"have\",\"superbowl\",\"in\",\"dallas\",\"but\",\"ai\",\"win\",\"im\",\"bring\",\"load\",\"candy\",\"hope\",\"do\",\"get\",\"all\",\"apple\",\"san\",\"ceo\",\"tim\",\"cook\",\"monday\",\"replace\",\"head\",\"__punc_ellp\",\"u\",\"remember\",\"her\",\"from\",\"sun\",\"__emot_wink\",\"one\",\"best\",\"8th\",\"excite\",\"after\",\"his\",\"today\",\"he\",\"victor\",\"cruz\",\"lol\",\"nadal\",\"confirm\",\"mexican\",\"open\",\"set\",\"play\",\"pop\",\"next\",\"wednesday\",\"you\",\"should\",\"come\",\"great\",\"ill\",\"tell\",\"ask\",\"november\",\"release\",\"date\",\"if\",\"true\",\"become\",\"big\",\"enough\",\"maybe\",\"she\",\"could\",\"sing\",\"grammys\",\"us\",\"list\",\"line\",\"campaign\",\"oct\",\"30\",\"bird\",\"rank\",\"4th\",\"time\",\"include\",\"or\",\"good\",\"morning\",\"thursday\",\"fantastic\",\"expect\",\"light\",\"rain\",\"over\",\"e\",\"chance\",\"tonight\",\"fair\",\"weather\",\"ticket\",\"leave\",\"game\",\"miss\",\"nfc\",\"championship\",\"against\",\"ny\",\"giants\",\"afc\",\"away\",\"stuff\",\"when\",\"ball\",\"turn\",\"your\",\"back\",\"night\",\"grey\",\"while\",\"parent\",\"throw\",\"so\",\"hard\",\"these\",\"days\",\"store\",\"castle\",\"cover\",\"issue\",\"will\",\"search\",\"again\",\"1\",\"gonna\",\"heat\",\"cost\",\"alot\",\"more\",\"plus\",\"would\",\"rather\",\"see\",\"austin\",\"rivers\",\"never\",\"start\",\"work\",\"dream\",\"mean\",\"anything\",\"now\",\"flacco\",\"need\",\"bench\",\"soon\",\"think\",\"fl\",\"yay\",\"ur\",\"n\",\"hop\",\"always\",\"look\",\"andy\",\"android\",\"little\",\"too\",\"much\",\"fun\",\"yesterday\",\"nice\",\"nikon\",\"black\",\"friday\",\"huge\",\"save\",\"view\",\"city\",\"paris\",\"las\",\"vegas\",\"yes\",\"know\",\"vs\",\"bell\",\"lie\",\"1st\",\"alone\",\"how\",\"weird\",\"lmfao\",\"ass\",\"class\",\"hong\",\"kong\",\"during\",\"nov\",\"them\",\"live\",\"20th\",\"mr\",\"president\",\"forever\",\"off\",\"mohamed\",\"morsi\",\"egypt\",\"arm\",\"force\",\"c\",\"amon\",\"guy\",\"who\",\"kid\",\"bill\",\"murray\",\"royal\",\"boro\",\"beat\",\"sure\",\"december\",\"january\",\"first\",\"grammy\",\"award\",\"hold\",\"4\",\"frank\",\"lee\",\"record\",\"year\",\"volare\",\"study\",\"friends\",\"__emot_laugh\",\"omg\",\"__emot_love\",\"life\",\"give\",\"job\",\"argentina\",\"mar\",\"wonder\",\"moon\",\"rise\",\"also\",\"sag\",\"yea\",\"thank\",\"call\",\"even\",\"might\",\"cvs\",\"man\",\"name\",\"player\",\"month\",\"5th\",\"such\",\"honor\",\"second\",\"tom\",\"6\",\"w\",\"td\",\"kendrick\",\"lamar\",\"6th\",\"phone\",\"school\",\"andre\",\"warn\",\"official\",\"site\",\"15th\",\"place\",\"premier\",\"league\",\"rumble\",\"crew\",\"real\",\"noel\",\"gallagher\",\"concert\",\"pass\",\"very\",\"small\",\"new\",\"york\",\"better\",\"eli\",\"quarter\",\"talent\",\"sign\",\"most\",\"video\",\"taylor\",\"swift\",\"29th\",\"news\",\"hear\",\"stage\",\"st\",\"paul\",\"room\",\"here\",\"row\",\"center\",\"pretty\",\"fire\",\"there\",\"down\",\"leicester\",\"etc\",\"until\",\"shout\",\"suck\",\"amazon\",\"some\",\"11am\",\"tuesday\",\"though\",\"as\",\"brown\",\"k\",\"fri\",\"lose\",\"raven\",\"21\",\"28\",\"sport\",\"performance\",\"score\",\"sunday\",\"far\",\"than\",\"billy\",\"cundiff\",\"field\",\"goal\",\"gotta\",\"wake\",\"forget\",\"16\",\"ready\",\"movies\",\"break\",\"part\",\"2\",\"tweet\",\"vow\",\"shall\",\"ferrell\",\"film\",\"people\",\"chinese\",\"food\",\"sweet\",\"same\",\"air\",\"episodes\",\"town\",\"alex\",\"11\",\"point\",\"7\",\"debut\",\"kentucky\",\"exhibition\",\"minutes\",\"heart\",\"jason\",\"wu\",\"show\",\"pm\",\"ray\",\"amaze\",\"jim\",\"white\",\"jazz\",\"9th\",\"feel\",\"swear\",\"saw\",\"capello\",\"russia\",\"match\",\"manager\",\"fabio\",\"jimmy\",\"martin\",\"sneak\",\"past\",\"lead\",\"bellamy\",\"assist\",\"2nd\",\"period\",\"kick\",\"weekend\",\"service\",\"bus\",\"trip\",\"boys\",\"girls\",\"club\",\"alright\",\"parker\",\"spur\",\"y\",\"jan\",\"extra\",\"goin\",\"13th\",\"well\",\"australia\",\"25\",\"many\",\"louis\",\"reuters\",\"damn\",\"tho\",\"niggas\",\"style\",\"blog\",\"post\",\"teen\",\"mom\",\"return\",\"third\",\"season\",\"chelsea\",\"business\",\"leader\",\"annual\",\"meet\",\"davos\",\"2013\",\"hi\",\"greet\",\"usa\",\"republic\",\"8\",\"fit\",\"jeremy\",\"kyle\",\"joe\",\"chill\",\"fail\",\"party\",\"age\",\"early\",\"gop\",\"pay\",\"move\",\"tribute\",\"houston\",\"final\",\"florida\",\"repeat\",\"let\",\"announce\",\"winners\",\"tune\",\"radio\",\"rock\",\"lounge\",\"valentine\",\"draw\",\"peterson\",\"check\",\"photos\",\"before\",\"19\",\"old\",\"3rd\",\"bale\",\"halloween\",\"worst\",\"holiday\",\"right\",\"pump\",\"women\",\"preview\",\"men\",\"piece\",\"something\",\"mobile\",\"boss\",\"push\",\"company\",\"myself\",\"decent\",\"port\",\"app\",\"photo\",\"available\",\"galaxy\",\"ricky\",\"songs\",\"eat\",\"greek\",\"another\",\"shop\",\"h\",\"m\",\"what\",\"design\",\"ca\",\"march\",\"fact\",\"john\",\"behind\",\"super\",\"bowl\",\"fine\",\"wish\",\"la\",\"bright\",\"side\",\"chocolate\",\"learn\",\"national\",\"totally\",\"take\",\"ladies\",\"dec\",\"axl\",\"fuck\",\"yeah\",\"brian\",\"happen\",\"likely\",\"de\",\"hell\",\"asia\",\"baby\",\"10\",\"already\",\"then\",\"michael\",\"jackson\",\"july\",\"l\",\"o\",\"v\",\"lakers\",\"gon\",\"finish\",\"near\",\"yo\",\"struggle\",\"spot\",\"october\",\"21st\",\"buy\",\"song\",\"combine\",\"two\",\"weeks\",\"really\",\"busy\",\"welcome\",\"battle\",\"17th\",\"basketball\",\"edition\",\"matter\",\"anyone\",\"lewis\",\"ever\",\"album\",\"13\",\"international\",\"kiss\",\"sort\",\"later\",\"midnight\",\"east\",\"which\",\"birthday\",\"apologize\",\"ride\",\"map\",\"monta\",\"ellis\",\"five\",\"shoot\",\"teach\",\"own\",\"spend\",\"videos\",\"rest\",\"care\",\"t\",\"offer\",\"free\",\"cloud\",\"our\",\"anniversary\",\"celebration\",\"s\",\"king\",\"dr\",\"star\",\"mitch\",\"hour\",\"avril\",\"love\",\"every\",\"half\",\"else\",\"only\",\"home\",\"jersey\",\"lot\",\"either\",\"sound\",\"queen\",\"pick\",\"seem\",\"along\",\"visit\",\"remind\",\"wow\",\"book\",\"olympus\",\"without\",\"leg\",\"champion\",\"al\",\"aston\",\"villa\",\"madonna\",\"obviously\",\"high\",\"ep\",\"history\",\"artist\",\"both\",\"yr\",\"david\",\"letterman\",\"brilliant\",\"thing\",\"gov\",\"daniels\",\"court\",\"member\",\"panel\",\"goodnight\",\"everyone\",\"nights\",\"order\",\"thanksgiving\",\"gold\",\"wed\",\"dress\",\"army\",\"ship\",\"senior\",\"revolution\",\"norwich\",\"0\",\"any\",\"clear\",\"cut\",\"couple\",\"long\",\"marijuana\",\"law\",\"washington\",\"19th\",\"paterno\",\"hello\",\"friend\",\"wear\",\"dublin\",\"help\",\"snow\",\"fall\",\"few\",\"tv\",\"online\",\"em\",\"walk\",\"top\",\"celebrity\",\"jennifer\",\"hudson\",\"because\",\"dvd\",\"xx\",\"30pm\",\"text\",\"dad\",\"charles\",\"dickens\",\"late\",\"surprise\",\"upset\",\"soccer\",\"maryland\",\"forest\",\"earlier\",\"red\",\"card\",\"bore\",\"host\",\"nothing\",\"rich\",\"germany\",\"theatre\",\"folks\",\"attend\",\"ap\",\"rocky\",\"luck\",\"pa\",\"state\",\"allow\",\"stadium\",\"bad\",\"crazy\",\"sad\",\"__emot_frown\",\"mizzou\",\"shirt\",\"__hash_fb\",\"must\",\"action\",\"everyday\",\"read\",\"football\",\"prepare\",\"tonite\",\"review\",\"series\",\"nba\",\"write\",\"woman\",\"cry\",\"other\",\"northern\",\"12\",\"facebook\",\"young\",\"pant\",\"under\",\"24\",\"18\",\"plan\",\"denzel\",\"run\",\"potus\",\"put\",\"5\",\"full\",\"charge\",\"report\",\"police\",\"mark\",\"google\",\"way\",\"draft\",\"round\",\"recall\",\"mine\",\"gagner\",\"decision\",\"actually\",\"msg\",\"glass\",\"athens\",\"spartacus\",\"raleigh\",\"spirit\",\"sandy\",\"steelers\",\"hotel\",\"23rd\",\"nd\",\"result\",\"less\",\"leonard\",\"trade\",\"realize\",\"step\",\"brothers\",\"plane\",\"amsterdam\",\"bet\",\"wanna\",\"things\",\"channel\",\"last\",\"girl\",\"face\",\"earth\",\"channing\",\"tatum\",\"cold\",\"mass\",\"effect\",\"jump\",\"bomb\",\"bar\",\"sister\",\"fly\",\"detroit\",\"newcastle\",\"interest\",\"launch\",\"trailer\",\"add\",\"26\",\"00\",\"funny\",\"case\",\"fran\",\"course\",\"park\",\"mins\",\"kevin\",\"hart\",\"10th\",\"beautiful\",\"countries\",\"someone\",\"oh\",\"cancel\",\"stop\",\"drive\",\"appreciate\",\"qb\",\"cant\",\"pitch\",\"treat\",\"20\",\"sam\",\"least\",\"flight\",\"press\",\"coni\",\"31\",\"aug\",\"2012\",\"players\",\"invite\",\"join\",\"coach\",\"injury\",\"serious\",\"dinner\",\"def\",\"rookie\",\"eye\",\"agent\",\"continue\",\"prove\",\"enjoy\",\"juice\",\"instead\",\"sleep\",\"ghost\",\"tour\",\"abu\",\"dhabi\",\"please\",\"re\",\"elect\",\"country\",\"roger\",\"test\",\"ben\",\"england\",\"sept\",\"turner\",\"yard\",\"feb\",\"power\",\"die\",\"14\",\"bed\",\"boy\",\"pray\",\"peace\",\"cause\",\"figure\",\"fight\",\"16th\",\"blow\",\"thurs\",\"safe\",\"listen\",\"pink\",\"cohen\",\"total\",\"complete\",\"twat\",\"challenge\",\"guess\",\"28th\",\"cont\",\"hand\",\"30am\",\"okay\",\"belgium\",\"fast\",\"2011\",\"gamble\",\"theme\",\"redknapp\",\"mail\",\"rugby\",\"compare\",\"iii\",\"grade\",\"clean\",\"10am\",\"office\",\"b4\",\"singapore\",\"taiwan\",\"jet\",\"hurricane\",\"anonymous\",\"youtube\",\"account\",\"election\",\"family\",\"email\",\"event\",\"dance\",\"ice\",\"skate\",\"rick\",\"__hash_nfl\",\"suppose\",\"south\",\"il\",\"23\",\"use\",\"able\",\"support\",\"wwe\",\"road\",\"raw\",\"temple\",\"due\",\"per\",\"minute\",\"laugh\",\"xi\",\"evans\",\"blake\",\"lin\",\"yet\",\"front\",\"sub\",\"lunch\",\"bday\",\"forward\",\"close\",\"mid\",\"tennessee\",\"nebraska\",\"sophia\",\"grace\",\"academy\",\"unite\",\"soul\",\"travel\",\"april\",\"since\",\"around\",\"corner\",\"ya\",\"dog\",\"change\",\"workshop\",\"cast\",\"ryan\",\"years\",\"ago\",\"credit\",\"truth\",\"buffalo\",\"wild\",\"brother\",\"hair\",\"america\",\"stand\",\"count\",\"carter\",\"fox\",\"fuel\",\"hmm\",\"grind\",\"hog\",\"nfl\",\"greatest\",\"share\",\"message\",\"d\",\"hahaha\",\"once\",\"roll\",\"million\",\"dook\",\"mess\",\"hours\",\"probably\",\"bear\",\"voice\",\"playoffs\",\"stick\",\"god\",\"machine\",\"box\",\"smile\",\"sick\",\"download\",\"id\",\"r\",\"fourth\",\"groundhog\",\"link\",\"begin\",\"bout\",\"district\",\"chicago\",\"rally\",\"cheer\",\"perform\",\"almost\",\"till\",\"baltimore\",\"person\",\"festival\",\"edmonton\",\"carpet\",\"29\",\"cup\",\"thats\",\"race\",\"idk\",\"haha\",\"lmao\",\"mate\",\"drink\",\"together\",\"kinda\",\"ross\",\"lady\",\"gaga\",\"ufc\",\"silva\",\"receive\",\"lower\",\"scott\",\"base\",\"ones\",\"celebrate\",\"breakfast\",\"britney\",\"others\",\"nokia\",\"los\",\"six\",\"church\",\"music\",\"into\",\"22\",\"carroll\",\"catch\",\"eagle\",\"band\",\"pakistan\",\"accord\",\"india\",\"ians\",\"hey\",\"un\",\"send\",\"patrick\",\"worry\",\"nyc\",\"schedule\",\"term\",\"beyonce\",\"27th\",\"three\",\"highlight\",\"da\",\"glad\",\"possibly\",\"pull\",\"land\",\"camp\",\"imma\",\"rob\",\"boom\",\"ok\",\"25th\",\"practice\",\"10pm\",\"9\",\"stock\",\"market\",\"advance\",\"deep\",\"entire\",\"career\",\"tix\",\"victory\",\"green\",\"project\",\"17\",\"community\",\"experience\",\"uk\",\"duke\",\"county\",\"clemson\",\"f\",\"b\",\"siro\",\"world\",\"26th\",\"nigga\",\"studio\",\"upcoming\",\"ps\",\"yrs\",\"european\",\"bite\",\"7pm\",\"art\",\"congratulations\",\"sale\",\"door\",\"preseason\",\"those\",\"detail\",\"consider\",\"phil\",\"yall\",\"stoke\",\"wife\",\"kill\",\"comedy\",\"100\",\"btw\",\"sexy\",\"members\",\"cuz\",\"til\",\"george\",\"dig\",\"idea\",\"picture\",\"pics\",\"trick\",\"follow\",\"answer\",\"p\",\"protest\",\"theater\",\"hot\",\"africa\",\"nation\",\"london\",\"fort\",\"double\",\"nj\",\"reason\",\"future\",\"jam\",\"harden\",\"18th\",\"group\",\"title\",\"north\",\"agree\",\"contract\",\"dead\",\"jesus\",\"tip\",\"cool\",\"thin\",\"street\",\"pro\",\"conference\",\"speak\",\"williams\",\"believe\",\"mind\",\"smash\",\"present\",\"ten\",\"cbs\",\"stone\",\"short\",\"story\",\"7th\",\"g\",\"hd\",\"arena\",\"interview\",\"fm\",\"cc\",\"rumor\",\"stay\",\"afternoon\",\"mall\",\"cannot\",\"wit\",\"nite\",\"four\",\"deadline\",\"single\",\"standard\",\"awesome\",\"pic\",\"pottstown\",\"understand\",\"lucky\",\"winner\",\"straight\",\"english\",\"problem\",\"original\",\"tues\",\"former\",\"son\",\"floor\",\"adams\",\"netflix\",\"ko\",\"months\",\"remain\",\"form\",\"biggest\",\"build\",\"31st\",\"roma\",\"milan\",\"burn\",\"piss\",\"gary\",\"cute\",\"kelly\",\"cat\",\"mexico\",\"each\",\"hurt\",\"dear\",\"buzz\",\"perfect\",\"gig\",\"possible\",\"cake\",\"hall\",\"dont\",\"arsenal\",\"french\",\"moment\",\"outside\",\"wont\",\"windows\",\"different\",\"money\",\"spread\",\"word\",\"worth\",\"twilight\",\"zone\",\"storm\",\"jones\",\"usually\",\"9pm\",\"loss\",\"na\",\"ang\",\"guide\",\"jr\",\"lloyd\",\"rb\",\"mick\",\"keith\",\"hilarious\",\"24th\",\"bull\",\"bay\",\"area\",\"adam\",\"co\",\"favorite\",\"captain\",\"dude\",\"ac\",\"homecoming\",\"derby\",\"blue\",\"x\",\"register\",\"8pm\",\"west\",\"ham\",\"pre\",\"debate\",\"death\",\"between\",\"acta\",\"update\",\"sorry\",\"fill\",\"proud\",\"winter\",\"somewhere\",\"rt\",\"american\",\"mike\",\"doctor\",\"arrive\",\"max\",\"crash\",\"rumour\",\"bitch\",\"fish\",\"info\",\"broadcast\",\"joke\",\"latest\",\"bob\",\"fashion\",\"relate\",\"asap\",\"27\",\"15\",\"costume\",\"choose\",\"ah\",\"mad\",\"terra\",\"nova\",\"tony\",\"congrats\",\"dj\",\"hollywood\",\"knicks\",\"crowd\",\"6pm\",\"bless\",\"program\",\"quite\",\"smith\",\"lorenzo\",\"pi\",\"fantasy\",\"2pm\",\"5pm\",\"eastern\",\"source\",\"wrong\",\"miami\",\"chris\",\"9am\",\"water\",\"leo\",\"noon\",\"bid\",\"especially\",\"promise\",\"sell\",\"dm\",\"tire\",\"reply\",\"finally\",\"appearance\",\"jeff\",\"rooney\",\"feature\",\"tigers\",\"number\",\"dave\",\"jean\",\"question\",\"notice\",\"sense\",\"seriously\",\"bayern\",\"factor\",\"marry\",\"bang\",\"coverage\",\"episode\",\"defend\",\"ireland\",\"clip\",\"republicans\",\"lil\",\"september\",\"iv\",\"twitter\",\"special\",\"network\",\"22nd\",\"justin\",\"silent\",\"brand\",\"hip\",\"independence\",\"swap\",\"cowboys\",\"mention\",\"danny\",\"whoever\",\"enter\",\"000\",\"price\",\"hang\",\"drop\",\"war\",\"ppl\",\"strong\",\"ako\",\"sa\",\"bro\",\"ex\",\"respect\",\"touch\",\"choice\",\"mix\",\"alexander\",\"ima\",\"scotland\",\"poor\",\"valley\",\"garden\",\"cd\",\"note\",\"car\",\"den\",\"factory\",\"session\",\"murder\",\"deserve\",\"tryna\",\"anderson\",\"unless\",\"expo\",\"raise\",\"30th\",\"definitely\",\"everybody\",\"stream\",\"don\",\"troy\",\"alan\",\"article\",\"page\",\"romo\",\"media\",\"rat\",\"grow\",\"explain\",\"lauren\",\"ha\",\"50\",\"contact\",\"speech\",\"august\",\"board\",\"appear\",\"delhi\",\"centre\",\"antonio\",\"nigeria\",\"worse\",\"poll\",\"odds\",\"4pm\",\"block\",\"teacher\",\"paper\",\"nc\",\"thru\",\"central\",\"apparently\",\"__hash_tcot\",\"table\",\"student\",\"union\",\"parade\",\"direction\",\"bank\",\"60\",\"ms\",\"mumbai\",\"stupid\",\"cole\",\"bridge\",\"qtr\",\"denver\",\"fancy\",\"cross\",\"tournament\",\"anthony\",\"reveal\",\"mersey\",\"scout\",\"worldwide\",\"rd\",\"summer\",\"johnson\",\"regular\",\"health\",\"hawaii\",\"spain\",\"trail\",\"walgreens\",\"journey\",\"middle\",\"saint\",\"wildcat\",\"destination\",\"contest\",\"italy\",\"dc\",\"davis\",\"harrison\",\"van\",\"rule\",\"towards\",\"pj\",\"en\",\"aka\",\"seat\",\"blood\",\"wine\",\"opener\",\"ahead\",\"josh\",\"social\",\"lions\",\"selection\",\"aaron\",\"island\",\"twice\",\"40\",\"finals\",\"toronto\",\"gym\",\"espn\",\"riot\",\"ss\",\"smell\",\"claim\",\"sky\",\"australian\",\"villas\",\"boas\",\"a1\",\"squad\",\"golf\",\"judge\",\"arrival\",\"winans\",\"_\",\"rider\",\"endymion\",\"beach\",\"klitschko\",\"nuggets\",\"tv5\",\"brook\",\"lopez\",\"kings\",\"jayalalithaa\",\"__hash_news\",\"flatbush\",\"zombies\",\"delay\",\"sony\",\"dar\",\"constitution\",\"bel\",\"ami\",\"evelyn\",\"rickman\",\"starkville\",\"canada\",\"murdoch\",\"attempt\",\"aniston\",\"todd\",\"bertuzzi\",\"alsip\",\"bodi\",\"astrology\",\"lexington\",\"crow\",\"nest\",\"haye\",\"vitali\",\"vita\",\"justice\",\"postal\",\"backstage\",\"playstation\",\"moore\",\"walker\",\"arrows\",\"neighborhood\",\"eng\",\"brit\",\"sep\",\"jose\",\"somalia\",\"maya\",\"rudolph\",\"morgan\",\"pack\",\"calgary\",\"wikileaks\",\"dahlia\",\"evanescence\",\"wppi\",\"lp\",\"nz\",\"monument\",\"level\",\"magic\",\"duel\",\"ramlila\",\"jackie\",\"lemon\",\"zulu\",\"dethklok\",\"iqaluit\",\"richie\",\"filthy\",\"ash\",\"catholics\",\"lend\",\"margarita\",\"sarah\",\"00pm\",\"katie\",\"olympic\",\"prince\",\"lovely\",\"reggie\",\"cricket\",\"track\",\"rudd\",\"bayer\",\"leverkusen\",\"elimination\",\"chamber\",\"hype\",\"adidas\",\"university\",\"murphy\",\"malcolm\",\"bali\",\"valor\",\"unofficially\",\"yours\",\"rodeo\",\"square\",\"net\",\"across\",\"haven\",\"ct\",\"cesena\",\"sbs\",\"pool\",\"pancakes\",\"ace\",\"marie\",\"ajax\",\"lamb\",\"physics\",\"presidents\",\"carrie\",\"underwood\",\"seek\",\"chief\",\"deca\",\"anymore\",\"echo\",\"jack\",\"jagger\",\"holy\",\"priest\",\"japan\",\"joseph\",\"caltrain\",\"warm\",\"anybody\",\"supply\",\"yearbook\",\"scene\",\"pope\",\"madrid\",\"raider\",\"mardis\",\"gras\",\"jacob\",\"file\",\"committee\",\"watney\",\"classic\",\"fb\",\"rim\",\"microsoft\",\"grand\",\"brooklyn\",\"q\",\"meal\",\"aid\",\"delicious\",\"competition\",\"santos\",\"mtsu\",\"nirvana\",\"carlton\",\"steve\",\"ipad\",\"honda\",\"normal\",\"varitek\",\"nightclub\",\"below\",\"planet\",\"vengeance\",\"charlie\",\"daily\",\"zap\",\"curtis\",\"sight\",\"children\",\"abs\",\"rosa\",\"congress\",\"mccarthy\",\"gun\",\"screen\",\"gandhi\",\"plaza\",\"tiffany\",\"cnblue\",\"yonghwa\",\"lane\",\"ma\",\"wright\",\"vessel\",\"est\",\"alien\",\"boston\",\"bieber\",\"sta\",\"celtics\",\"infinite\",\"space\",\"students\",\"tate\",\"aj\",\"neutral\",\"mommy\",\"nicki\",\"daytona\",\"500\",\"rush\",\"kitchen\",\"tiger\",\"barcelona\",\"ni\",\"rodgers\",\"everton\",\"stevie\",\"colts\",\"amanda\",\"cafe\",\"roast\",\"ii\",\"saha\",\"3d\",\"robbie\",\"plant\",\"nhl\",\"hammond\",\"website\",\"christianity\",\"cream\",\"divine\",\"deniesse\",\"bobby\",\"__hash_nufc\",\"toni\",\"tottenham\",\"emmanuel\",\"adebayor\",\"trayvon\",\"pires\",\"danica\",\"adelaide\",\"adrienne\",\"arsht\",\"com\",\"greensboro\",\"rammstein\",\"gampel\",\"petrolia\",\"sanchez\",\"clooney\",\"estella\",\"wichita\",\"derrick\",\"carling\",\"wbb\",\"zimmerman\",\"vernau\",\"viola\",\"gonzaga\",\"ost\",\"clearwire\",\"vampire\",\"lorax\",\"hockey\",\"semi\",\"chardon\",\"az\",\"b2st\",\"thalia\",\"ritz\",\"marana\",\"slingers\",\"rivera\",\"lou\",\"olive\",\"harold\",\"sprint\",\"divo\",\"roxy\",\"farm\",\"keane\",\"jungle\",\"jupiter\",\"ponting\",\"harris\",\"happiest\",\"philly\",\"aussie\",\"directioners\",\"twickers\",\"stein\",\"oscars\",\"footymad\",\"education\",\"texas\",\"siberia\",\"diamond\",\"cypress\",\"guest\",\"berkmar\",\"metropcs\",\"minaj\",\"edgar\",\"davids\",\"volleyball\",\"greenville\",\"richards\",\"amy\",\"tallahassee\",\"clarke\",\"preds\",\"allstar\",\"bdr\",\"belushi\",\"sm\",\"deeds\",\"wolves\",\"doug\",\"vanessa\",\"cannavaro\",\"trial\",\"warriors\",\"idc\",\"departure\",\"utc\",\"tampa\",\"animal\",\"cherry\",\"breakout\",\"sons\",\"sandwich\",\"shore\",\"raiders\",\"alabama\",\"strawberry\",\"wreck\",\"merlin\",\"iss\",\"auburn\",\"hank\",\"harvey\",\"robertson\",\"irene\",\"conrad\",\"droid\",\"bionic\",\"deus\",\"kung\",\"fu\",\"panda\",\"2d\",\"indonesian\",\"subtitle\",\"tentatively\",\"sheen\",\"elvis\",\"presley\",\"boise\",\"inbetweeners\",\"yushin\",\"okami\",\"summerslam\",\"mta\",\"tonga\",\"n9\",\"anarchy\",\"pavol\",\"demitra\",\"woods\",\"boehner\",\"henson\",\"democrats\",\"diaries\",\"ape\",\"lobby\",\"wisconsin\",\"bolton\",\"nuit\",\"blanche\",\"bama\",\"__hash_dexter\",\"knox\",\"aladdin\",\"leshoure\",\"yankees\",\"dexter\",\"melissa\",\"painter\",\"kristin\",\"chenoweth\",\"bangladesh\",\"drexel\",\"vh1\",\"psn\",\"mackems\",\"iebc\",\"putrajaya\",\"rex\",\"haryana\",\"wsh\",\"cliff\",\"kamran\",\"shahid\",\"segal\",\"selma\",\"fca\",\"brookwood\",\"andrew\",\"breitbart\",\"capt\",\"kremlin\",\"seuss\",\"gadkari\",\"simcity\",\"java\",\"jerusalem\",\"iguana\",\"ying\",\"triangle\",\"jett\",\"mvc\",\"monroe\",\"emerson\",\"boonen\",\"shepard\",\"fairey\",\"hf\",\"pico\",\"iditarod\",\"hrt\",\"douglas\",\"laguna\",\"sjp\",\"knoxville\",\"dongwoo\",\"mourinho\",\"banff\",\"timmonsville\",\"istep\",\"henryville\",\"dixie\",\"maria\",\"buccaneer\",\"maino\",\"bharatiya\",\"janata\",\"bjp\",\"tomb\",\"francis\",\"kinder\",\"trifecta\",\"dwts\",\"mnf\",\"verlander\"],\"x\":{\"__ndarray__\":\"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\",\"dtype\":\"float32\",\"shape\":[2123]},\"y\":{\"__ndarray__\":\"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\",\"dtype\":\"float32\",\"shape\":[2123]}}},\"id\":\"43303562-b6d4-4323-ab2f-b6e9904cae8d\",\"type\":\"ColumnDataSource\"},{\"attributes\":{\"min_border\":1,\"plot_width\":700,\"renderers\":[{\"id\":\"2d71476b-e20a-4828-8df7-6a2210f23e53\",\"type\":\"BoxAnnotation\"},{\"id\":\"8faacf95-3176-4dea-a2ee-c8363c394450\",\"type\":\"GlyphRenderer\"}],\"title\":{\"id\":\"aefb4825-cdae-445f-8bf0-57c3e0956b3c\",\"type\":\"Title\"},\"toolbar\":{\"id\":\"7b772f55-6c2d-4f7d-90ad-e393dca48344\",\"type\":\"Toolbar\"},\"x_range\":{\"id\":\"f23d1b6e-1dcf-4b83-a13a-1da6ad799eea\",\"type\":\"DataRange1d\"},\"x_scale\":{\"id\":\"1d92e4e6-5951-439d-9f68-11eb44c791b0\",\"type\":\"LinearScale\"},\"y_range\":{\"id\":\"af9afc4f-578d-4687-b7db-646354e5a6b0\",\"type\":\"DataRange1d\"},\"y_scale\":{\"id\":\"878c2b3c-3d61-45eb-a807-fb9b5dd43ff5\",\"type\":\"LinearScale\"}},\"id\":\"07a5538d-64c3-4656-b166-8f2e8c14313b\",\"subtype\":\"Figure\",\"type\":\"Plot\"},{\"attributes\":{\"source\":{\"id\":\"43303562-b6d4-4323-ab2f-b6e9904cae8d\",\"type\":\"ColumnDataSource\"}},\"id\":\"634c140d-7e0b-482a-8f75-20fdacc5f213\",\"type\":\"CDSView\"},{\"attributes\":{\"plot\":null,\"text\":\"A map of 10000 word vectors\"},\"id\":\"aefb4825-cdae-445f-8bf0-57c3e0956b3c\",\"type\":\"Title\"},{\"attributes\":{\"fill_alpha\":{\"value\":0.1},\"fill_color\":{\"value\":\"#1f77b4\"},\"line_alpha\":{\"value\":0.1},\"line_color\":{\"value\":\"#1f77b4\"},\"x\":{\"field\":\"x\"},\"y\":{\"field\":\"y\"}},\"id\":\"db4ec0a6-9aa6-4317-887c-3c4f0c8c50fd\",\"type\":\"Circle\"},{\"attributes\":{},\"id\":\"1d92e4e6-5951-439d-9f68-11eb44c791b0\",\"type\":\"LinearScale\"},{\"attributes\":{},\"id\":\"878c2b3c-3d61-45eb-a807-fb9b5dd43ff5\",\"type\":\"LinearScale\"},{\"attributes\":{\"fill_color\":{\"value\":\"#1f77b4\"},\"line_color\":{\"value\":\"#1f77b4\"},\"x\":{\"field\":\"x\"},\"y\":{\"field\":\"y\"}},\"id\":\"a45ef34c-d318-4fa2-b067-ac59261ff0dd\",\"type\":\"Circle\"},{\"attributes\":{\"active_drag\":\"auto\",\"active_inspect\":\"auto\",\"active_scroll\":\"auto\",\"active_tap\":\"auto\",\"tools\":[{\"id\":\"7e2b9dba-b631-4cd3-8284-fe6d9db0c30e\",\"type\":\"PanTool\"},{\"id\":\"36c926ba-67cb-46a7-a6a8-bdd93cf4fd61\",\"type\":\"WheelZoomTool\"},{\"id\":\"405b63a6-b59e-48bc-89f4-d2266cdda2b9\",\"type\":\"BoxZoomTool\"},{\"id\":\"ed843798-5fa8-43e1-b993-0a32b2259640\",\"type\":\"ResetTool\"},{\"id\":\"ff76736c-1318-407a-ac75-ced6de8381a2\",\"type\":\"HoverTool\"},{\"id\":\"5c4e745b-6931-43e7-8b01-08c2f432bd6c\",\"type\":\"SaveTool\"}]},\"id\":\"7b772f55-6c2d-4f7d-90ad-e393dca48344\",\"type\":\"Toolbar\"},{\"attributes\":{\"data_source\":{\"id\":\"43303562-b6d4-4323-ab2f-b6e9904cae8d\",\"type\":\"ColumnDataSource\"},\"glyph\":{\"id\":\"a45ef34c-d318-4fa2-b067-ac59261ff0dd\",\"type\":\"Circle\"},\"hover_glyph\":null,\"muted_glyph\":null,\"nonselection_glyph\":{\"id\":\"db4ec0a6-9aa6-4317-887c-3c4f0c8c50fd\",\"type\":\"Circle\"},\"selection_glyph\":null,\"view\":{\"id\":\"634c140d-7e0b-482a-8f75-20fdacc5f213\",\"type\":\"CDSView\"}},\"id\":\"8faacf95-3176-4dea-a2ee-c8363c394450\",\"type\":\"GlyphRenderer\"},{\"attributes\":{\"bottom_units\":\"screen\",\"fill_alpha\":{\"value\":0.5},\"fill_color\":{\"value\":\"lightgrey\"},\"left_units\":\"screen\",\"level\":\"overlay\",\"line_alpha\":{\"value\":1.0},\"line_color\":{\"value\":\"black\"},\"line_dash\":[4,4],\"line_width\":{\"value\":2},\"plot\":null,\"render_mode\":\"css\",\"right_units\":\"screen\",\"top_units\":\"screen\"},\"id\":\"2d71476b-e20a-4828-8df7-6a2210f23e53\",\"type\":\"BoxAnnotation\"}],\"root_ids\":[\"07a5538d-64c3-4656-b166-8f2e8c14313b\"]},\"title\":\"Bokeh Application\",\"version\":\"0.12.10\"}};\n",
       "    var render_items = [{\"docid\":\"8b83cb5f-38c4-4410-b09f-15c72664ea7f\",\"elementid\":\"88f055a2-3331-4b3f-8d41-0930055c9246\",\"modelid\":\"07a5538d-64c3-4656-b166-8f2e8c14313b\"}];\n",
       "\n",
       "    root.Bokeh.embed.embed_items(docs_json, render_items);\n",
       "  }\n",
       "\n",
       "  if (root.Bokeh !== undefined) {\n",
       "    embed_document(root);\n",
       "  } else {\n",
       "    var attempts = 0;\n",
       "    var timer = setInterval(function(root) {\n",
       "      if (root.Bokeh !== undefined) {\n",
       "        embed_document(root);\n",
       "        clearInterval(timer);\n",
       "      }\n",
       "      attempts++;\n",
       "      if (attempts > 100) {\n",
       "        console.log(\"Bokeh: ERROR: Unable to embed document because BokehJS library is missing\")\n",
       "        clearInterval(timer);\n",
       "      }\n",
       "    }, 10, root)\n",
       "  }\n",
       "})(window);"
      ],
      "application/vnd.bokehjs_exec.v0+json": ""
     },
     "metadata": {
      "application/vnd.bokehjs_exec.v0+json": {
       "id": "07a5538d-64c3-4656-b166-8f2e8c14313b"
      }
     },
     "output_type": "display_data"
    }
   ],
   "source": [
    "# importing bokeh library for interactive dataviz\n",
    "import bokeh.plotting as bp\n",
    "from bokeh.models import HoverTool, BoxSelectTool\n",
    "from bokeh.plotting import figure, show, output_notebook\n",
    "\n",
    "# defining the chart\n",
    "output_notebook()\n",
    "plot_tfidf = bp.figure(plot_width=700, plot_height=600, title=\"A map of 10000 word vectors\",\n",
    "    tools=\"pan,wheel_zoom,box_zoom,reset,hover,previewsave\",\n",
    "    x_axis_type=None, y_axis_type=None, min_border=1)\n",
    "\n",
    "# getting a list of word vectors. limit to 10000. each is of 200 dimensions\n",
    "word_vectors = [tweet_w2v.wv[w] for w in list(tweet_w2v.wv.vocab.keys())[:5000]]\n",
    "\n",
    "# dimensionality reduction. converting the vectors to 2d vectors\n",
    "from sklearn.manifold import TSNE\n",
    "tsne_model = TSNE(n_components=2, verbose=1, random_state=0)\n",
    "tsne_w2v = tsne_model.fit_transform(word_vectors)\n",
    "\n",
    "# putting everything in a dataframe\n",
    "tsne_df = pd.DataFrame(tsne_w2v, columns=['x', 'y'])\n",
    "tsne_df['words'] = list(tweet_w2v.wv.vocab.keys())[:5000]\n",
    "\n",
    "# plotting. the corresponding word appears when you hover on the data point.\n",
    "plot_tfidf.scatter(x='x', y='y', source=tsne_df)\n",
    "hover = plot_tfidf.select(dict(type=HoverTool))\n",
    "hover.tooltips={\"word\": \"@words\"}\n",
    "show(plot_tfidf)\n"
   ]
  },
  {
   "cell_type": "code",
   "execution_count": 456,
   "metadata": {
    "collapsed": true
   },
   "outputs": [],
   "source": [
    "def buildWordVector(tokens, size):\n",
    "    vec = np.zeros(size).reshape((1, size))\n",
    "    count = 0.\n",
    "    for word in tokens:\n",
    "        try:\n",
    "            vec += tweet_w2v[word].reshape((1, size)) * tfidf[word]\n",
    "            count += 1.\n",
    "        except KeyError: # handling the case where the token is not\n",
    "                         # in the corpus. useful for testing.\n",
    "            continue\n",
    "    if count != 0:\n",
    "        vec /= count\n",
    "    return vec"
   ]
  },
  {
   "cell_type": "code",
   "execution_count": 458,
   "metadata": {
    "collapsed": true
   },
   "outputs": [],
   "source": [
    "vectorizer = TfidfVectorizer(analyzer=lambda x: x, min_df=10)\n",
    "matrix = vectorizer.fit_transform([x.words for x in x_train])\n",
    "tfidf = dict(zip(vectorizer.get_feature_names(), vectorizer.idf_))"
   ]
  },
  {
   "cell_type": "code",
   "execution_count": 459,
   "metadata": {},
   "outputs": [
    {
     "name": "stderr",
     "output_type": "stream",
     "text": [
      "\n",
      "\n",
      "0it [00:00, ?it/s]\u001b[A\u001b[A/anaconda3/lib/python3.6/site-packages/ipykernel_launcher.py:6: DeprecationWarning: Call to deprecated `__getitem__` (Method will be removed in 4.0.0, use self.wv.__getitem__() instead).\n",
      "  \n",
      "\n",
      "\n",
      "318it [00:00, 3122.79it/s]\u001b[A\u001b[A\n",
      "\n",
      "597it [00:00, 2900.10it/s]\u001b[A\u001b[A\n",
      "\n",
      "863it [00:00, 2849.05it/s]\u001b[A\u001b[A\n",
      "\n",
      "1114it [00:00, 2767.68it/s]\u001b[A\u001b[A\n",
      "\n",
      "1365it [00:00, 2720.44it/s]\u001b[A\u001b[A\n",
      "\n",
      "1605it [00:00, 2662.05it/s]\u001b[A\u001b[A\n",
      "\n",
      "1879it [00:00, 2672.31it/s]\u001b[A\u001b[A\n",
      "\n",
      "2172it [00:00, 2703.48it/s]\u001b[A\u001b[A\n",
      "\n",
      "2432it [00:00, 2692.64it/s]\u001b[A\u001b[A\n",
      "\n",
      "2724it [00:01, 2707.54it/s]\u001b[A\u001b[A\n",
      "\n",
      "3034it [00:01, 2730.52it/s]\u001b[A\u001b[A\n",
      "\n",
      "3313it [00:01, 2742.68it/s]\u001b[A\u001b[A\n",
      "\n",
      "3590it [00:01, 2739.33it/s]\u001b[A\u001b[A\n",
      "\n",
      "3865it [00:01, 2707.50it/s]\u001b[A\u001b[A\n",
      "\n",
      "4129it [00:01, 2680.82it/s]\u001b[A\u001b[A\n",
      "\n",
      "4383it [00:01, 2654.20it/s]\u001b[A\u001b[A\n",
      "\n",
      "4646it [00:01, 2651.44it/s]\u001b[A\u001b[A\n",
      "\n",
      "4913it [00:01, 2652.35it/s]\u001b[A\u001b[A\n",
      "\n",
      "5193it [00:01, 2658.91it/s]\u001b[A\u001b[A\n",
      "\n",
      "5465it [00:02, 2662.35it/s]\u001b[A\u001b[A\n",
      "\n",
      "5731it [00:02, 2649.14it/s]\u001b[A\u001b[A\n",
      "\n",
      "5989it [00:02, 2635.98it/s]\u001b[A\u001b[A\n",
      "\n",
      "6241it [00:02, 2624.40it/s]\u001b[A\u001b[A\n",
      "\n",
      "6491it [00:02, 2614.63it/s]\u001b[A\u001b[A\n",
      "\n",
      "6738it [00:02, 2595.59it/s]\u001b[A\u001b[A\n",
      "\n",
      "6996it [00:02, 2597.79it/s]\u001b[A\u001b[A\n",
      "\n",
      "7240it [00:02, 2589.46it/s]\u001b[A\u001b[A\n",
      "\n",
      "7483it [00:02, 2580.46it/s]\u001b[A\u001b[A\n",
      "\n",
      "7758it [00:02, 2586.33it/s]\u001b[A\u001b[A\n",
      "\n",
      "8021it [00:03, 2587.57it/s]\u001b[A\u001b[A\n",
      "\n",
      "8275it [00:03, 2583.54it/s]\u001b[A\u001b[A\n",
      "\n",
      "8546it [00:03, 2587.85it/s]\u001b[A\u001b[A\n",
      "\n",
      "8804it [00:03, 2585.00it/s]\u001b[A\u001b[A\n",
      "\n",
      "8839it [00:03, 2579.45it/s]\u001b[A\u001b[A\n",
      "\n",
      "0it [00:00, ?it/s]\u001b[A\u001b[A\n",
      "\n",
      "259it [00:00, 2547.36it/s]\u001b[A\u001b[A\n",
      "\n",
      "510it [00:00, 2531.55it/s]\u001b[A\u001b[A\n",
      "\n",
      "781it [00:00, 2579.55it/s]\u001b[A\u001b[A\n",
      "\n",
      "1040it [00:00, 2576.07it/s]\u001b[A\u001b[A\n",
      "\n",
      "1294it [00:00, 2572.68it/s]\u001b[A\u001b[A\n",
      "\n",
      "1511it [00:00, 2583.12it/s]\u001b[A\u001b[A"
     ]
    }
   ],
   "source": [
    "from sklearn.preprocessing import scale\n",
    "train_vecs_w2v = np.concatenate([buildWordVector(z, 200) for z in tqdm(map(lambda x: x.words, x_train))])\n",
    "train_vecs_w2v = scale(train_vecs_w2v)\n",
    "\n",
    "test_vecs_w2v = np.concatenate([buildWordVector(z, 200) for z in tqdm(map(lambda x: x.words, x_test))])\n",
    "test_vecs_w2v = scale(test_vecs_w2v)"
   ]
  },
  {
   "cell_type": "code",
   "execution_count": 460,
   "metadata": {
    "collapsed": true
   },
   "outputs": [],
   "source": [
    "import os\n",
    "os.environ[\"CUDA_DEVICE_ORDER\"] = \"PCI_BUS_ID\"   # see issue #152\n",
    "os.environ[\"CUDA_VISIBLE_DEVICES\"] = \"\""
   ]
  },
  {
   "cell_type": "code",
   "execution_count": 461,
   "metadata": {},
   "outputs": [
    {
     "name": "stderr",
     "output_type": "stream",
     "text": [
      "/anaconda3/lib/python3.6/site-packages/h5py/__init__.py:34: FutureWarning: Conversion of the second argument of issubdtype from `float` to `np.floating` is deprecated. In future, it will be treated as `np.float64 == np.dtype(float).type`.\n",
      "  from ._conv import register_converters as _register_converters\n",
      "Using TensorFlow backend.\n"
     ]
    }
   ],
   "source": [
    "from keras.models import Sequential\n",
    "from keras.layers import Dense, Activation\n",
    "from sklearn.preprocessing import LabelEncoder\n",
    "from keras.utils import np_utils, to_categorical"
   ]
  },
  {
   "cell_type": "code",
   "execution_count": 462,
   "metadata": {
    "collapsed": true
   },
   "outputs": [],
   "source": [
    "# encode class values as integers\n",
    "encoder = LabelEncoder()\n",
    "encoder.fit(y)\n",
    "encoded_Y = encoder.transform(y)\n",
    "# convert integers to dummy variables (i.e. one hot encoded)\n",
    "dummy_y_train = np_utils.to_categorical(encoded_Y)"
   ]
  },
  {
   "cell_type": "code",
   "execution_count": 463,
   "metadata": {},
   "outputs": [
    {
     "data": {
      "text/plain": [
       "(8839, 200)"
      ]
     },
     "execution_count": 463,
     "metadata": {},
     "output_type": "execute_result"
    }
   ],
   "source": [
    "train_vecs_w2v.shape"
   ]
  },
  {
   "cell_type": "code",
   "execution_count": 472,
   "metadata": {},
   "outputs": [
    {
     "name": "stderr",
     "output_type": "stream",
     "text": [
      "\n"
     ]
    },
    {
     "name": "stdout",
     "output_type": "stream",
     "text": [
      "Train on 8839 samples, validate on 1511 samples\n",
      "Epoch 1/9\n",
      " - 1s - loss: 0.9199 - acc: 0.5666 - val_loss: 0.9427 - val_acc: 0.5520\n",
      "Epoch 2/9\n",
      " - 1s - loss: 0.8714 - acc: 0.5976 - val_loss: 0.9363 - val_acc: 0.5645\n",
      "Epoch 3/9\n",
      " - 1s - loss: 0.8625 - acc: 0.6032 - val_loss: 0.9224 - val_acc: 0.5672\n",
      "Epoch 4/9\n",
      " - 1s - loss: 0.8575 - acc: 0.6074 - val_loss: 0.9229 - val_acc: 0.5566\n",
      "Epoch 5/9\n",
      " - 1s - loss: 0.8480 - acc: 0.6108 - val_loss: 0.9244 - val_acc: 0.5692\n",
      "Epoch 6/9\n",
      " - 1s - loss: 0.8398 - acc: 0.6166 - val_loss: 0.9210 - val_acc: 0.5738\n",
      "Epoch 7/9\n",
      " - 1s - loss: 0.8379 - acc: 0.6126 - val_loss: 0.9271 - val_acc: 0.5559\n",
      "Epoch 8/9\n",
      " - 1s - loss: 0.8343 - acc: 0.6202 - val_loss: 0.9122 - val_acc: 0.5738\n",
      "Epoch 9/9\n",
      " - 1s - loss: 0.8310 - acc: 0.6209 - val_loss: 0.9130 - val_acc: 0.5758\n"
     ]
    },
    {
     "data": {
      "text/plain": [
       "<keras.callbacks.History at 0x1a38984c88>"
      ]
     },
     "execution_count": 472,
     "metadata": {},
     "output_type": "execute_result"
    }
   ],
   "source": [
    "model = Sequential()\n",
    "model.add(Dense(32, activation='relu', input_dim=200))\n",
    "model.add(Dense(3, activation='softmax'))\n",
    "model.compile(optimizer='adam',\n",
    "              loss='categorical_crossentropy',\n",
    "              metrics=['accuracy'])\n",
    "\n",
    "model.fit(train_vecs_w2v, dummy_y_train, \n",
    "          validation_data=(test_vecs_w2v, dummy_y_test), epochs=9, batch_size=32, verbose=2, validation_split=0.0)"
   ]
  },
  {
   "cell_type": "code",
   "execution_count": 471,
   "metadata": {
    "collapsed": true
   },
   "outputs": [],
   "source": [
    "encoder.fit(DEV_DATA['label'])\n",
    "encoded_Y = encoder.transform(DEV_DATA['label'])\n",
    "# convert integers to dummy variables (i.e. one hot encoded)\n",
    "dummy_y_test = np_utils.to_categorical(encoded_Y)"
   ]
  },
  {
   "cell_type": "code",
   "execution_count": 129,
   "metadata": {},
   "outputs": [
    {
     "name": "stdout",
     "output_type": "stream",
     "text": [
      "acc 0.5857048292257863\n"
     ]
    }
   ],
   "source": [
    "score = model.evaluate(test_vecs_w2v, dummy_y_test, batch_size=32, verbose=2)\n",
    "print (model.metrics_names[1], score[1])"
   ]
  },
  {
   "cell_type": "code",
   "execution_count": null,
   "metadata": {
    "collapsed": true
   },
   "outputs": [],
   "source": [
    "print(\"Dev accuracy\" + str(np.sum(dev.iloc[:,0]==predicted)/len(predicted)*100 + \"%\")"
   ]
  },
  {
   "cell_type": "code",
   "execution_count": null,
   "metadata": {
    "collapsed": true
   },
   "outputs": [],
   "source": [
    "doc = ['I hate fucking cheese','I love cows']"
   ]
  },
  {
   "cell_type": "code",
   "execution_count": null,
   "metadata": {
    "collapsed": true
   },
   "outputs": [],
   "source": [
    "doc_tdf = tfidf_vectorizer.transform(doc)"
   ]
  },
  {
   "cell_type": "code",
   "execution_count": null,
   "metadata": {
    "collapsed": true
   },
   "outputs": [],
   "source": [
    "predicted = clf.predict(doc_tdf)"
   ]
  },
  {
   "cell_type": "code",
   "execution_count": null,
   "metadata": {
    "collapsed": true
   },
   "outputs": [],
   "source": [
    "for doc, category in zip(doc, predicted):\n",
    "    print('%r => %s' % (doc, category))"
   ]
  },
  {
   "cell_type": "code",
   "execution_count": null,
   "metadata": {
    "collapsed": true
   },
   "outputs": [],
   "source": [
    "def flat_tokens(lol):\n",
    "    return [lemmatizer.lemmatize(y.lower(),'v') for x in lol for y in x]"
   ]
  },
  {
   "cell_type": "code",
   "execution_count": null,
   "metadata": {
    "collapsed": true
   },
   "outputs": [],
   "source": [
    "pos_tokens = flat_tokens(pos_df['tweet'])"
   ]
  },
  {
   "cell_type": "code",
   "execution_count": null,
   "metadata": {
    "collapsed": true
   },
   "outputs": [],
   "source": [
    "neg_tokens = flat_tokens(neg_df['tweet'])"
   ]
  },
  {
   "cell_type": "code",
   "execution_count": null,
   "metadata": {
    "collapsed": true
   },
   "outputs": [],
   "source": [
    "tokens = flat_tokens(df['tweet'])"
   ]
  },
  {
   "cell_type": "code",
   "execution_count": null,
   "metadata": {
    "collapsed": true
   },
   "outputs": [],
   "source": [
    "tags = ['ADP','PRT','PRON','VERB','.']"
   ]
  },
  {
   "cell_type": "code",
   "execution_count": null,
   "metadata": {
    "collapsed": true
   },
   "outputs": [],
   "source": [
    "good_words = [w for w, wtype in tokens if wtype not in STOP_TYPES]"
   ]
  },
  {
   "cell_type": "code",
   "execution_count": null,
   "metadata": {
    "collapsed": true
   },
   "outputs": [],
   "source": [
    "nltk.pos_tag(nltk.word_tokenize('hello you'))[0][1]"
   ]
  },
  {
   "cell_type": "code",
   "execution_count": null,
   "metadata": {
    "collapsed": true
   },
   "outputs": [],
   "source": [
    "positive_words = Counter(pos_tokens)\n",
    "negative_words = Counter(neg_tokens)\n",
    "words = Counter(tokens)"
   ]
  },
  {
   "cell_type": "code",
   "execution_count": null,
   "metadata": {
    "collapsed": true
   },
   "outputs": [],
   "source": [
    "positive_words.most_common(10)"
   ]
  },
  {
   "cell_type": "code",
   "execution_count": null,
   "metadata": {
    "collapsed": true
   },
   "outputs": [],
   "source": [
    "pos_neg_ratios = Counter()"
   ]
  },
  {
   "cell_type": "code",
   "execution_count": null,
   "metadata": {
    "collapsed": true
   },
   "outputs": [],
   "source": [
    "for term,cnt in list(words.most_common()):\n",
    "    if(cnt > 100):\n",
    "        pos_neg_ratio = positive_words[term] / float(negative_words[term]+1)\n",
    "        pos_neg_ratios[term] = pos_neg_ratio"
   ]
  },
  {
   "cell_type": "code",
   "execution_count": null,
   "metadata": {
    "collapsed": true
   },
   "outputs": [],
   "source": [
    "for word,ratio in pos_neg_ratios.most_common():\n",
    "    if(ratio > 1):\n",
    "        pos_neg_ratios[word] = np.log(ratio)\n",
    "    else:\n",
    "        pos_neg_ratios[word] = -np.log((1 / (ratio+0.01)))"
   ]
  },
  {
   "cell_type": "code",
   "execution_count": null,
   "metadata": {
    "collapsed": true
   },
   "outputs": [],
   "source": [
    "pos_neg_ratios.most_common(10)"
   ]
  },
  {
   "cell_type": "code",
   "execution_count": null,
   "metadata": {
    "collapsed": true
   },
   "outputs": [],
   "source": [
    "from nltk.corpus import stopwords"
   ]
  },
  {
   "cell_type": "code",
   "execution_count": null,
   "metadata": {
    "collapsed": true
   },
   "outputs": [],
   "source": [
    "stop = set(stopwords.words('english'))"
   ]
  },
  {
   "cell_type": "code",
   "execution_count": null,
   "metadata": {
    "collapsed": true
   },
   "outputs": [],
   "source": [
    "stop"
   ]
  },
  {
   "cell_type": "code",
   "execution_count": null,
   "metadata": {
    "collapsed": true
   },
   "outputs": [],
   "source": [
    "#Plot bar with values from dict and label with keys\n",
    "plt.figure(figsize=(15,10))\n",
    "plt.bar(range(len(OrderedDict(words.most_common(50)))), \n",
    "        OrderedDict(words.most_common(50)).values(), align='center')\n",
    "plt.xticks(range(len(OrderedDict(words.most_common(50)))), OrderedDict(words.most_common(50)).keys())\n",
    "\n",
    "#Rotate labels by 90 degrees so you can see them\n",
    "locs, labeling = plt.xticks()\n",
    "plt.setp(labeling, rotation=90)\n",
    "plt.xlabel('Words')\n",
    "plt.ylabel('Frequency')\n",
    "plt.suptitle('Word Distribution', fontweight='bold', fontsize=14);"
   ]
  },
  {
   "cell_type": "code",
   "execution_count": null,
   "metadata": {
    "collapsed": true
   },
   "outputs": [],
   "source": []
  },
  {
   "cell_type": "code",
   "execution_count": null,
   "metadata": {
    "collapsed": true
   },
   "outputs": [],
   "source": []
  }
 ],
 "metadata": {
  "kernelspec": {
   "display_name": "Python 3",
   "language": "python",
   "name": "python3"
  },
  "language_info": {
   "codemirror_mode": {
    "name": "ipython",
    "version": 3
   },
   "file_extension": ".py",
   "mimetype": "text/x-python",
   "name": "python",
   "nbconvert_exporter": "python",
   "pygments_lexer": "ipython3",
   "version": "3.6.3"
  }
 },
 "nbformat": 4,
 "nbformat_minor": 2
}
